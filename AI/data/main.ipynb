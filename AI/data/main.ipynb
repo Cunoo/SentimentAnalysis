{
 "cells": [
  {
   "cell_type": "code",
   "execution_count": 2,
   "metadata": {},
   "outputs": [
    {
     "name": "stderr",
     "output_type": "stream",
     "text": [
      "/Library/Frameworks/Python.framework/Versions/3.12/lib/python3.12/site-packages/tqdm/auto.py:21: TqdmWarning: IProgress not found. Please update jupyter and ipywidgets. See https://ipywidgets.readthedocs.io/en/stable/user_install.html\n",
      "  from .autonotebook import tqdm as notebook_tqdm\n",
      "Creating CSV from Arrow format: 100%|██████████| 25/25 [00:01<00:00, 12.80ba/s]\n"
     ]
    }
   ],
   "source": [
    "from datasets import load_dataset\n",
    "\n",
    "import pandas as pd\n",
    "ds = load_dataset(\"fewshot-goes-multilingual/sk_csfd-movie-reviews\")\n",
    "train = ds[\"train\"]\n",
    "train_csv = train.to_csv(\"train.csv\")"
   ]
  },
  {
   "cell_type": "code",
   "execution_count": 4,
   "metadata": {},
   "outputs": [
    {
     "data": {
      "application/vnd.microsoft.datawrangler.viewer.v0+json": {
       "columns": [
        {
         "name": "index",
         "rawType": "int64",
         "type": "integer"
        },
        {
         "name": "review_id",
         "rawType": "object",
         "type": "string"
        },
        {
         "name": "rating_str",
         "rawType": "object",
         "type": "string"
        },
        {
         "name": "rating_int",
         "rawType": "int64",
         "type": "integer"
        },
        {
         "name": "date",
         "rawType": "datetime64[ns]",
         "type": "datetime"
        },
        {
         "name": "comment_language",
         "rawType": "object",
         "type": "string"
        },
        {
         "name": "comment",
         "rawType": "object",
         "type": "string"
        },
        {
         "name": "item_title",
         "rawType": "object",
         "type": "string"
        },
        {
         "name": "item_year",
         "rawType": "object",
         "type": "string"
        },
        {
         "name": "item_kind",
         "rawType": "object",
         "type": "string"
        },
        {
         "name": "item_genres",
         "rawType": "object",
         "type": "unknown"
        },
        {
         "name": "item_directors",
         "rawType": "object",
         "type": "unknown"
        },
        {
         "name": "item_screenwriters",
         "rawType": "object",
         "type": "unknown"
        },
        {
         "name": "item_cast",
         "rawType": "object",
         "type": "unknown"
        }
       ],
       "conversionMethod": "pd.DataFrame",
       "ref": "ce9dfa7c-e6bf-457f-9315-c3429c572d97",
       "rows": [
        [
         "24995",
         "L9xOccccoc9I3EM79iEOHQ",
         "4/5",
         "4",
         "2004-06-15 00:00:00",
         "sk",
         " Zábava to bola skvelá, ale chcem vidieť babu, ktorá dá prednosť NIcholsonovi pred Reevesom.:)",
         "Lepší pozdě nežli později",
         "2003",
         "film",
         "['Komedie', 'Romantický']",
         "['Nancy Meyers']",
         "['Nancy Meyers']",
         "['Jack Nicholson', 'Diane Keaton', 'Amanda Peet', 'Keanu Reeves', 'Frances McDormand', 'Jon Favreau', 'KaDee Strickland', 'Paul Michael Glaser', 'Rachel Ticotin', 'Lorraine Nicholson', 'Audrey Wasilewski', 'Peter Spears', 'Susan Misner', 'Nichole Hiltz', 'T.J. Thyne', 'Patrick Fischler', 'Lorna Scott', 'Shashi Balooja', 'Jennifer Siebel Newsom', 'Melissa Keller', 'Connie Sawyer', 'Julia Rose', 'Troy Christian', 'Robert Frank Telfer', 'Robin Pearson Rose', 'Elayn J. Taylor', 'Ara Anton', 'Alan Charof']"
        ],
        [
         "24996",
         "aHpKGs512vWPSuMc8wyqNA",
         "2/5",
         "2",
         "2015-09-15 00:00:00",
         "sk",
         " Nudne spracovaný príbeh s dosť naivným scenárom. Správanie postáv a niektoré dialógy sú na tyčku, ako aj celá postava toho talibanského prenasledovateľa, pre ktorého nie je nič dôležitejšie ako dolapiť nejakú novinárku. Francúzske špeciálne jednotky môžu byť tiež spokojné, misia sa podarila, síce prišli o takmer celú jednotku vycvičených vojakov, no novinárka je zachránená, môže sa oslavovať. Realistickejšia mi príde aj Disneyho Fantázia ako toto.",
         "Speciální jednotka",
         "2011",
         "film",
         "['Akční', 'Válečný', 'Drama']",
         "['Stéphane Rybojad']",
         "['Michael Cooper', 'Stéphane Rybojad']",
         "['Diane Kruger', 'Djimon Hounsou', 'Benoît Magimel', 'Denis Ménochet', 'Raphaël Personnaz', 'Alain Figlarz', 'Alain Alivon', 'Mehdi Nebbou', 'Raz Degan', 'Tchéky Karyo', 'Anne Caillon', 'Morjana Alaoui', 'Matthias Van Khache', 'Laurent Claret', 'Jeanne Bournaud', 'Eric Soubelet', 'Denis Braccini', 'Antoine Blanquefort', 'Julie Baronnie', 'Isabelle Vitari', 'Jean-Paul Dubois', 'Bernard Allouf']"
        ],
        [
         "24997",
         "G8m8aj56nJaQzIplLPFtMA",
         "3/5",
         "3",
         "2018-09-02 00:00:00",
         "sk",
         " 2 hodiny cakania na skvele rozuzlenie....a koniec absolutne odflaknuty, amatersky, detinsky, trapny.... 3 hviezdicky za skvelu hlavnu postavu, ze postupne budovanie atmosfery a za originalne ponatie lakaciek. Mohol to byt top film, avsak to by musel niekto aj rozmyslat nad scenarom....",
         "Děsivé dědictví",
         "2018",
         "film",
         "['Horor', 'Psychologický', 'Mysteriózní', 'Thriller', 'Drama']",
         "['Ari Aster']",
         "['Ari Aster']",
         "['Toni Collette', 'Gabriel Byrne', 'Alex Wolff', 'Milly Shapiro', 'Ann Dowd', 'Mallory Bechtel', 'Jarrod Phillips', 'Austin R. Grant', 'Brock McKinney', 'Morgan Lund', 'Ari Aster', 'Christy Summerhays', 'Jake Brown', 'John Forker', 'Moises L. Tovar']"
        ],
        [
         "24998",
         "Pi5JJKyihbfH8fFeqVEuZA",
         "2/5",
         "2",
         "2012-12-17 00:00:00",
         "sk",
         " ide o lepsiu zalezitost nez je jednotka, no stale je to o tom istom (co je teda podla mna narozdiel od vacsiny, na skodu veci)..plus tu ma este o to viac rozculuje ten neustale horedole pobehujuci neschopny trol Pleasance..\na hlavne - (a to sa tyka vsetkych halloweenov), niektore myersove obete si zasluzia nominaciu na darwinovu cenu..naozaj bol problem natocit inteligentny slasher, ktory by neurazal divakov nad 15 rokov? **",
         "Halloween II",
         "1981",
         "film",
         "['Horor', 'Thriller']",
         "['Rick Rosenthal']",
         "['John Carpenter', 'Debra Hill']",
         "['Jamie Lee Curtis', 'Donald Pleasence', 'Charles Cyphers', 'Jeffrey Kramer', 'Lance Guest', 'Pamela Susan Shoop', 'Ana Alicia', 'Leo Rossi', 'Dick Warlock', 'Dana Carvey', 'Billy Warlock', 'Anne-Marie Martin', 'Nancy Kyes', 'Jonathan Prince', 'Adam Gunn', 'Jeff Daniel Phillips', 'John Zenda', 'Ford Rainey', 'Lance Warlock', 'Nancy Stephens', 'Pamela McMyler', 'Dennis Holahan', 'Cliff Emmich', 'Leigh French', 'Hunter von Leer', 'Lucille Benson', 'Gloria Gifford', 'Tony Moran', 'Kyle Richards', 'Brian Andrews', 'Ty Mitchell', 'Tawny Moyer']"
        ],
        [
         "24999",
         "kNvk8UwgzfvXfkWzrhoLqg",
         "0/5",
         "0",
         "2008-09-18 00:00:00",
         "sk",
         " Toto je k smiechu! Všetci čo na tomto robili by sa mali hanbiť! Barbie pobehujúca so zbraňami, asi tak sa dá opísať táto blbosť. Ale že som sa aspoň na úbohosti tohto seriálu smial, dávam 1%.",
         "V.I.P.",
         "(1998–2002)",
         "seriál",
         "['Akční', 'Komedie', 'Krimi']",
         "['Farhad Mann', 'Chuck Bowman', 'Greg Yaitanes', 'Nelson McCormick', 'Peter DeLuise', 'Scott Paulin', 'Robert Radler', 'J.F. Lawton', 'James A. Contner', 'Savage Steve Holland', 'Deran Sarafian', 'Barry Primus', 'Bruce Campbell', 'Sidney J. Furie', 'Steve Cohen', 'Patrick R. Norris', 'Adam Nimoy', 'Bruce Seth Green', 'Corey Michael Eubanks', 'Michael Dorn', 'Tawnia McKiernan', 'Larry Rapaport', 'Scott Brazil']",
         "['J.F. Lawton', 'Rick Suvalle', 'Hannah Louise Shearer', 'Morgan Gendel', 'Steven Kriozere', 'Kathy Slevin', 'Charles Holland', 'Ralph Phillips', 'Tom Chehak', 'Eric Estrin', 'Robert Bielak', 'Norma Safford Vela']",
         "['Pamela Anderson', 'Molly Culver', 'Shaun Baker', 'Natalie Raitano', 'Leah Lail', 'Angelle Brooks', 'Dustin Nguyen', 'Ed Quinn', 'Suzanne Whang', 'Michael Bailey Smith', 'Michael Adler', \"'Weird Al' Yankovic\", 'Victor Webster', 'Derek Mears', 'Greg Grunberg', 'Sandra Bernhard', 'Christian Oliver', 'Marcus Schenkenberg', 'Verne Troyer', 'Elizabeth Bogush', 'Bridget White', \"Nancy O'Dell\", 'Lisa LoCicero', 'Dean Norris', 'Geoff Meed', 'Nichole Hiltz', 'Robert LaSardo', 'Ernie Reyes Jr.', 'Brian Thompson', 'Timothy Omundson', 'Meta Golding', 'Hugh M. Hefner', 'Katarina Witt', 'Tommy Lee', 'Charles Barkley', 'David Lee Smith', 'Shannon Tweed', 'Gil Birmingham', 'Michael McFall', 'Laura McLauchlin', 'Erin Daniels', 'Doug Jeffery', 'Bill Maher', 'Brent Sexton', 'Shawn Christian', 'William Gregory Lee', 'Don Swayze', 'Michelle Stafford', 'Jeff Speakman', 'Nikita Ager', 'David DeLuise', 'Richard Lewis', 'Salvator Xuereb', 'Nikki Schieler Ziering', 'Aimee Garcia', 'Rodney Rowland', 'Kevin Spirtas', 'Loni Anderson', 'Musetta Vander', 'Max Kasch', 'Gildart Jackson', 'Wayne Pére', 'Chrissie Hynde', 'Gregory Itzin', 'Jerry Springer', 'Terence Knox', 'Reni Santoni', 'Fredric Lehne', 'Mike Gunther', 'Brandon Douglas', 'Thomas Newton', 'Kristen Dalton', 'Oris Erhuero', 'Bailey Chase', 'Joseph Bottoms', 'Robert Torti', 'Sung-hi Lee', 'Sydney Walsh', 'Scott L. Schwartz', 'Michelle Clunie', 'Dan Bell', 'Eric Scott Woods', 'Jocelyn Seagrave', 'Blake Boyd', 'Joe Sabatino', 'Laura Albert', 'Christian Boeving', 'Carlton Wilborn', 'Dimitri Diatchenko', 'Jim Knobeloch', 'Sherman Hemsley', 'David Starzyk', 'Priscilla Taylor', 'Roark Critchlow', 'Joseph Kell', 'Alexandra Wilson', 'James Black', 'Michael Lowry', 'Scott Bryce', 'Taylor Sheridan', 'Thomas Rosales Jr.', 'Chuck Zito', 'Jennifer Lothrop', 'Karen Sheperd', 'Trent Cameron', 'Engelbert Humperdinck', 'Drew Powell', 'Rob Van Dam', 'Candace Kita', 'Sean Kanan', 'David Groh', 'Robin Riker', 'J. Downing', 'Morgan Brittany', 'Mo Gallini', 'Clint Jung', 'Jackie Debatin', 'Timothy V. Murphy', 'Spencer Garrett', 'Angela Oh', 'Eric Steinberg', 'Paul Carafotes', 'Ashley Jones', 'Danny Arroyo', 'Natalia Cigliuti', 'Daphne Duplaix', 'Andrew W. Walker', 'Kenneth Choi', 'Joseph C. Phillips', 'Ping Wu', 'Julie St. Claire', 'Carol Kiernan', 'Bruce Locke', 'Ivonne Coll', 'Roman Varshavsky', 'Michail Chmurov', 'Roger Floyd', 'Sal Rendino', 'Alexandr Kuzněcov', 'Joe Ordaz', 'Susan Peretz', 'Kristof Konrad', 'Jim Palmer', 'Adoni Maropis', 'Teddy Lane Jr.', 'Tammy Tavares', 'Daran Norris', 'Julia Vera', 'Maz Jobrani', 'Michael Harris', 'Sam Sarpong', 'Wilmer Calderon', 'Justin Walker', 'Marlon Young', 'Scott Atkinson', 'Time Winters', 'Al Goto', 'Elimu Nelson', 'Júdži Okumoto', 'Maury Sterling', 'Mark Bennington', 'Caroline Ambrose', 'Faith Minton', 'Samantha Maloney', 'Henri Lubatti', 'Ron Yuan', 'Peter J. Lucas', 'Brian Cousins', 'Dennis Madalone', 'Keith Campbell', 'Emmanuelle Bach', 'Doug Kruse', 'Ricky Paull Goldin', 'Jeff Juday', 'Ming Lo', 'Jason Hildebrandt', 'Paul Gutrecht', 'Kate Pierson', 'Robert Romanus', 'Steven Kriozere', 'Wayne Wilderson', 'Greg Wrangler', 'Sam Scarber', 'Christian Bocher', 'Joyce Brothers', 'Karl Makinen', 'Amber Goetz', 'Bart Braverman', 'Javier Grajeda', 'Toby Holguin', 'Eddie Perez', \"John D'Aquino\", 'Vincent Guastaferro', 'Michael Hilow', 'Clive Robertson', 'Bjorn Johnson', 'Ash Adams', 'Graham Shiels', 'Jack Knight', 'Irina Lavrentěva', 'Alexia Robinson', 'Laurie Fortier', 'Brad Grunberg', 'Joseph Gian', 'Bobby Nish', 'Stewart Finlay-McLennan', 'Dan Ferro', 'Angelica Bridges', 'Brian Yang', 'Marco Sanchez', 'Matt Lindquist', 'Sophia Santi', 'Christopher Reid', 'Lucinda Weist', 'Wiley M. Pickett', \"Jerry O'Donnell\", 'Chris Jacobs', 'Nadine Ellis', 'Marie Caldare', 'Nelson Mashita', 'Rick Aiello', 'Rita Rudner', 'Steve Wilder', 'Jeff Ricketts', 'Dorothy Lyman', 'Billy Gallo', 'Rachel Sterling', 'Renee Tenison', 'Kim Morgan Greene', 'Christian Svensson', 'Jason Ross-Azikiwe', 'Alexandra Barreto', 'Danny Lee Clark', 'Alisa Reyes', 'Christopher Michael', 'George Pilgrim', 'Scott Brazil', 'Tom Billett', 'Les Brandt', 'Mike Kimmel', 'Brian Fitzpatrick', 'Jeannetta Arnette', 'Mary Ostrow', 'Clark Tufts', 'Nick Meaney', 'Linda Kim', 'Dayo Ade', 'Colin Campbell', 'Tak Kubota', 'Mark Nutter', 'Erik Betts', \"Raymond O'Connor\", 'Nick Spano', 'Boris Lee Krutonog', 'Angela Rockwood', 'Jean St. James', 'Samuel Le', 'Wayne Thomas Yorke', 'Gregory Zarian', 'Lisa Stahl', 'Reggie Currelley', 'Brittany Alyse Smith', 'Tanjareen Thomas', 'James Sie', 'Bill M. Ryusaki', 'Ty Upshaw', 'Lou Casal', 'Tina New', 'Francis Fallon', 'Pamela Paulshock', 'Lisa Pescia', 'Bronwyn Cornelius', 'Dell Yount', 'Liesl Lombardo', 'Dean Fortunato', 'Harley Rodriguez', 'Jon David Casey', 'Jack Ong', 'Monte Rex Perlin', 'Will Schaub', 'Clayton Norcross', 'Steven Hack', 'Cathy Herd', 'Lamont Johnson', 'Manny Suárez', 'John Maynard', 'Ramy Zada', 'James DiStefano', 'Mailon Rivera', 'Christian J. Meoli', 'Mark Riccardi', 'Michele Harrell', 'Angela Harry', 'Art Chudabala', 'Michael Owen', 'Faline England']"
        ]
       ],
       "shape": {
        "columns": 13,
        "rows": 5
       }
      },
      "text/html": [
       "<div>\n",
       "<style scoped>\n",
       "    .dataframe tbody tr th:only-of-type {\n",
       "        vertical-align: middle;\n",
       "    }\n",
       "\n",
       "    .dataframe tbody tr th {\n",
       "        vertical-align: top;\n",
       "    }\n",
       "\n",
       "    .dataframe thead th {\n",
       "        text-align: right;\n",
       "    }\n",
       "</style>\n",
       "<table border=\"1\" class=\"dataframe\">\n",
       "  <thead>\n",
       "    <tr style=\"text-align: right;\">\n",
       "      <th></th>\n",
       "      <th>review_id</th>\n",
       "      <th>rating_str</th>\n",
       "      <th>rating_int</th>\n",
       "      <th>date</th>\n",
       "      <th>comment_language</th>\n",
       "      <th>comment</th>\n",
       "      <th>item_title</th>\n",
       "      <th>item_year</th>\n",
       "      <th>item_kind</th>\n",
       "      <th>item_genres</th>\n",
       "      <th>item_directors</th>\n",
       "      <th>item_screenwriters</th>\n",
       "      <th>item_cast</th>\n",
       "    </tr>\n",
       "  </thead>\n",
       "  <tbody>\n",
       "    <tr>\n",
       "      <th>24995</th>\n",
       "      <td>L9xOccccoc9I3EM79iEOHQ</td>\n",
       "      <td>4/5</td>\n",
       "      <td>4</td>\n",
       "      <td>2004-06-15</td>\n",
       "      <td>sk</td>\n",
       "      <td>Zábava to bola skvelá, ale chcem vidieť babu,...</td>\n",
       "      <td>Lepší pozdě nežli později</td>\n",
       "      <td>2003</td>\n",
       "      <td>film</td>\n",
       "      <td>[Komedie, Romantický]</td>\n",
       "      <td>[Nancy Meyers]</td>\n",
       "      <td>[Nancy Meyers]</td>\n",
       "      <td>[Jack Nicholson, Diane Keaton, Amanda Peet, Ke...</td>\n",
       "    </tr>\n",
       "    <tr>\n",
       "      <th>24996</th>\n",
       "      <td>aHpKGs512vWPSuMc8wyqNA</td>\n",
       "      <td>2/5</td>\n",
       "      <td>2</td>\n",
       "      <td>2015-09-15</td>\n",
       "      <td>sk</td>\n",
       "      <td>Nudne spracovaný príbeh s dosť naivným scenár...</td>\n",
       "      <td>Speciální jednotka</td>\n",
       "      <td>2011</td>\n",
       "      <td>film</td>\n",
       "      <td>[Akční, Válečný, Drama]</td>\n",
       "      <td>[Stéphane Rybojad]</td>\n",
       "      <td>[Michael Cooper, Stéphane Rybojad]</td>\n",
       "      <td>[Diane Kruger, Djimon Hounsou, Benoît Magimel,...</td>\n",
       "    </tr>\n",
       "    <tr>\n",
       "      <th>24997</th>\n",
       "      <td>G8m8aj56nJaQzIplLPFtMA</td>\n",
       "      <td>3/5</td>\n",
       "      <td>3</td>\n",
       "      <td>2018-09-02</td>\n",
       "      <td>sk</td>\n",
       "      <td>2 hodiny cakania na skvele rozuzlenie....a ko...</td>\n",
       "      <td>Děsivé dědictví</td>\n",
       "      <td>2018</td>\n",
       "      <td>film</td>\n",
       "      <td>[Horor, Psychologický, Mysteriózní, Thriller, ...</td>\n",
       "      <td>[Ari Aster]</td>\n",
       "      <td>[Ari Aster]</td>\n",
       "      <td>[Toni Collette, Gabriel Byrne, Alex Wolff, Mil...</td>\n",
       "    </tr>\n",
       "    <tr>\n",
       "      <th>24998</th>\n",
       "      <td>Pi5JJKyihbfH8fFeqVEuZA</td>\n",
       "      <td>2/5</td>\n",
       "      <td>2</td>\n",
       "      <td>2012-12-17</td>\n",
       "      <td>sk</td>\n",
       "      <td>ide o lepsiu zalezitost nez je jednotka, no s...</td>\n",
       "      <td>Halloween II</td>\n",
       "      <td>1981</td>\n",
       "      <td>film</td>\n",
       "      <td>[Horor, Thriller]</td>\n",
       "      <td>[Rick Rosenthal]</td>\n",
       "      <td>[John Carpenter, Debra Hill]</td>\n",
       "      <td>[Jamie Lee Curtis, Donald Pleasence, Charles C...</td>\n",
       "    </tr>\n",
       "    <tr>\n",
       "      <th>24999</th>\n",
       "      <td>kNvk8UwgzfvXfkWzrhoLqg</td>\n",
       "      <td>0/5</td>\n",
       "      <td>0</td>\n",
       "      <td>2008-09-18</td>\n",
       "      <td>sk</td>\n",
       "      <td>Toto je k smiechu! Všetci čo na tomto robili ...</td>\n",
       "      <td>V.I.P.</td>\n",
       "      <td>(1998–2002)</td>\n",
       "      <td>seriál</td>\n",
       "      <td>[Akční, Komedie, Krimi]</td>\n",
       "      <td>[Farhad Mann, Chuck Bowman, Greg Yaitanes, Nel...</td>\n",
       "      <td>[J.F. Lawton, Rick Suvalle, Hannah Louise Shea...</td>\n",
       "      <td>[Pamela Anderson, Molly Culver, Shaun Baker, N...</td>\n",
       "    </tr>\n",
       "  </tbody>\n",
       "</table>\n",
       "</div>"
      ],
      "text/plain": [
       "                    review_id rating_str  rating_int       date  \\\n",
       "24995  L9xOccccoc9I3EM79iEOHQ        4/5           4 2004-06-15   \n",
       "24996  aHpKGs512vWPSuMc8wyqNA        2/5           2 2015-09-15   \n",
       "24997  G8m8aj56nJaQzIplLPFtMA        3/5           3 2018-09-02   \n",
       "24998  Pi5JJKyihbfH8fFeqVEuZA        2/5           2 2012-12-17   \n",
       "24999  kNvk8UwgzfvXfkWzrhoLqg        0/5           0 2008-09-18   \n",
       "\n",
       "      comment_language                                            comment  \\\n",
       "24995               sk   Zábava to bola skvelá, ale chcem vidieť babu,...   \n",
       "24996               sk   Nudne spracovaný príbeh s dosť naivným scenár...   \n",
       "24997               sk   2 hodiny cakania na skvele rozuzlenie....a ko...   \n",
       "24998               sk   ide o lepsiu zalezitost nez je jednotka, no s...   \n",
       "24999               sk   Toto je k smiechu! Všetci čo na tomto robili ...   \n",
       "\n",
       "                      item_title    item_year item_kind  \\\n",
       "24995  Lepší pozdě nežli později         2003      film   \n",
       "24996         Speciální jednotka         2011      film   \n",
       "24997            Děsivé dědictví         2018      film   \n",
       "24998               Halloween II         1981      film   \n",
       "24999                     V.I.P.  (1998–2002)    seriál   \n",
       "\n",
       "                                             item_genres  \\\n",
       "24995                              [Komedie, Romantický]   \n",
       "24996                            [Akční, Válečný, Drama]   \n",
       "24997  [Horor, Psychologický, Mysteriózní, Thriller, ...   \n",
       "24998                                  [Horor, Thriller]   \n",
       "24999                            [Akční, Komedie, Krimi]   \n",
       "\n",
       "                                          item_directors  \\\n",
       "24995                                     [Nancy Meyers]   \n",
       "24996                                 [Stéphane Rybojad]   \n",
       "24997                                        [Ari Aster]   \n",
       "24998                                   [Rick Rosenthal]   \n",
       "24999  [Farhad Mann, Chuck Bowman, Greg Yaitanes, Nel...   \n",
       "\n",
       "                                      item_screenwriters  \\\n",
       "24995                                     [Nancy Meyers]   \n",
       "24996                 [Michael Cooper, Stéphane Rybojad]   \n",
       "24997                                        [Ari Aster]   \n",
       "24998                       [John Carpenter, Debra Hill]   \n",
       "24999  [J.F. Lawton, Rick Suvalle, Hannah Louise Shea...   \n",
       "\n",
       "                                               item_cast  \n",
       "24995  [Jack Nicholson, Diane Keaton, Amanda Peet, Ke...  \n",
       "24996  [Diane Kruger, Djimon Hounsou, Benoît Magimel,...  \n",
       "24997  [Toni Collette, Gabriel Byrne, Alex Wolff, Mil...  \n",
       "24998  [Jamie Lee Curtis, Donald Pleasence, Charles C...  \n",
       "24999  [Pamela Anderson, Molly Culver, Shaun Baker, N...  "
      ]
     },
     "execution_count": 4,
     "metadata": {},
     "output_type": "execute_result"
    }
   ],
   "source": [
    "train_df_raw = pd.DataFrame(train)\n",
    "train_df_raw.tail()"
   ]
  },
  {
   "cell_type": "code",
   "execution_count": null,
   "metadata": {},
   "outputs": [
    {
     "data": {
      "application/vnd.microsoft.datawrangler.viewer.v0+json": {
       "columns": [
        {
         "name": "index",
         "rawType": "int64",
         "type": "integer"
        },
        {
         "name": "rating_int",
         "rawType": "int64",
         "type": "integer"
        },
        {
         "name": "comment",
         "rawType": "object",
         "type": "string"
        }
       ],
       "conversionMethod": "pd.DataFrame",
       "ref": "281b7ea0-5309-4b31-9e0e-e8b48003debd",
       "rows": [
        [
         "24995",
         "4",
         " Zábava to bola skvelá, ale chcem vidieť babu, ktorá dá prednosť NIcholsonovi pred Reevesom.:)"
        ],
        [
         "24996",
         "2",
         " Nudne spracovaný príbeh s dosť naivným scenárom. Správanie postáv a niektoré dialógy sú na tyčku, ako aj celá postava toho talibanského prenasledovateľa, pre ktorého nie je nič dôležitejšie ako dolapiť nejakú novinárku. Francúzske špeciálne jednotky môžu byť tiež spokojné, misia sa podarila, síce prišli o takmer celú jednotku vycvičených vojakov, no novinárka je zachránená, môže sa oslavovať. Realistickejšia mi príde aj Disneyho Fantázia ako toto."
        ],
        [
         "24997",
         "3",
         " 2 hodiny cakania na skvele rozuzlenie....a koniec absolutne odflaknuty, amatersky, detinsky, trapny.... 3 hviezdicky za skvelu hlavnu postavu, ze postupne budovanie atmosfery a za originalne ponatie lakaciek. Mohol to byt top film, avsak to by musel niekto aj rozmyslat nad scenarom...."
        ],
        [
         "24998",
         "2",
         " ide o lepsiu zalezitost nez je jednotka, no stale je to o tom istom (co je teda podla mna narozdiel od vacsiny, na skodu veci)..plus tu ma este o to viac rozculuje ten neustale horedole pobehujuci neschopny trol Pleasance..\na hlavne - (a to sa tyka vsetkych halloweenov), niektore myersove obete si zasluzia nominaciu na darwinovu cenu..naozaj bol problem natocit inteligentny slasher, ktory by neurazal divakov nad 15 rokov? **"
        ],
        [
         "24999",
         "0",
         " Toto je k smiechu! Všetci čo na tomto robili by sa mali hanbiť! Barbie pobehujúca so zbraňami, asi tak sa dá opísať táto blbosť. Ale že som sa aspoň na úbohosti tohto seriálu smial, dávam 1%."
        ]
       ],
       "shape": {
        "columns": 2,
        "rows": 5
       }
      },
      "text/html": [
       "<div>\n",
       "<style scoped>\n",
       "    .dataframe tbody tr th:only-of-type {\n",
       "        vertical-align: middle;\n",
       "    }\n",
       "\n",
       "    .dataframe tbody tr th {\n",
       "        vertical-align: top;\n",
       "    }\n",
       "\n",
       "    .dataframe thead th {\n",
       "        text-align: right;\n",
       "    }\n",
       "</style>\n",
       "<table border=\"1\" class=\"dataframe\">\n",
       "  <thead>\n",
       "    <tr style=\"text-align: right;\">\n",
       "      <th></th>\n",
       "      <th>rating_int</th>\n",
       "      <th>comment</th>\n",
       "    </tr>\n",
       "  </thead>\n",
       "  <tbody>\n",
       "    <tr>\n",
       "      <th>24995</th>\n",
       "      <td>4</td>\n",
       "      <td>Zábava to bola skvelá, ale chcem vidieť babu,...</td>\n",
       "    </tr>\n",
       "    <tr>\n",
       "      <th>24996</th>\n",
       "      <td>2</td>\n",
       "      <td>Nudne spracovaný príbeh s dosť naivným scenár...</td>\n",
       "    </tr>\n",
       "    <tr>\n",
       "      <th>24997</th>\n",
       "      <td>3</td>\n",
       "      <td>2 hodiny cakania na skvele rozuzlenie....a ko...</td>\n",
       "    </tr>\n",
       "    <tr>\n",
       "      <th>24998</th>\n",
       "      <td>2</td>\n",
       "      <td>ide o lepsiu zalezitost nez je jednotka, no s...</td>\n",
       "    </tr>\n",
       "    <tr>\n",
       "      <th>24999</th>\n",
       "      <td>0</td>\n",
       "      <td>Toto je k smiechu! Všetci čo na tomto robili ...</td>\n",
       "    </tr>\n",
       "  </tbody>\n",
       "</table>\n",
       "</div>"
      ],
      "text/plain": [
       "       rating_int                                            comment\n",
       "24995           4   Zábava to bola skvelá, ale chcem vidieť babu,...\n",
       "24996           2   Nudne spracovaný príbeh s dosť naivným scenár...\n",
       "24997           3   2 hodiny cakania na skvele rozuzlenie....a ko...\n",
       "24998           2   ide o lepsiu zalezitost nez je jednotka, no s...\n",
       "24999           0   Toto je k smiechu! Všetci čo na tomto robili ..."
      ]
     },
     "execution_count": 6,
     "metadata": {},
     "output_type": "execute_result"
    }
   ],
   "source": [
    "df = train_df_raw.drop([\"review_id\", \"rating_str\", \"date\", \"comment_language\", \"item_title\", \"item_year\", \"item_kind\", \"item_genres\", \"item_directors\", \"item_screenwriters\", \"item_cast\"], axis=1)\n",
    "df.tail()\n",
    "\n",
    "df[\"rating_int\"] = df.apply(\n",
    "    lambda row: \n",
    ")"
   ]
  },
  {
   "cell_type": "code",
   "execution_count": null,
   "metadata": {},
   "outputs": [],
   "source": []
  }
 ],
 "metadata": {
  "kernelspec": {
   "display_name": "Python 3",
   "language": "python",
   "name": "python3"
  },
  "language_info": {
   "codemirror_mode": {
    "name": "ipython",
    "version": 3
   },
   "file_extension": ".py",
   "mimetype": "text/x-python",
   "name": "python",
   "nbconvert_exporter": "python",
   "pygments_lexer": "ipython3",
   "version": "3.12.7"
  }
 },
 "nbformat": 4,
 "nbformat_minor": 2
}
