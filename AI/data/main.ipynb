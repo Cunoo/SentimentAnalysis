{
 "cells": [
  {
   "cell_type": "code",
   "execution_count": 46,
   "metadata": {},
   "outputs": [],
   "source": [
    "from datasets import load_dataset\n",
    "import pandas as pd\n",
    "\n",
    "# Load the dataset\n",
    "ds = load_dataset(\"fewshot-goes-multilingual/sk_csfd-movie-reviews\")\n",
    "train_csfd = ds[\"train\"]\n",
    "test_csfd = ds[\"test\"]\n",
    "\n",
    "# Convert to pandas DataFrames\n",
    "train_df_csfd = pd.DataFrame(train_csfd)\n",
    "test_df_csfd = pd.DataFrame(test_csfd)\n",
    "\n",
    "# If you want to save them to CSV\n",
    "train_df_csfd.to_csv(\"sk_csfd-movie-reviews_raw_train.csv\", index=False)\n",
    "test_df_csfd.to_csv(\"sk_csfd-movie-reviews_raw_test.csv\", index=False)"
   ]
  },
  {
   "cell_type": "code",
   "execution_count": 47,
   "metadata": {},
   "outputs": [
    {
     "data": {
      "application/vnd.microsoft.datawrangler.viewer.v0+json": {
       "columns": [
        {
         "name": "index",
         "rawType": "int64",
         "type": "integer"
        },
        {
         "name": "review_id",
         "rawType": "object",
         "type": "string"
        },
        {
         "name": "rating_str",
         "rawType": "object",
         "type": "string"
        },
        {
         "name": "rating_int",
         "rawType": "int64",
         "type": "integer"
        },
        {
         "name": "date",
         "rawType": "object",
         "type": "string"
        },
        {
         "name": "comment_language",
         "rawType": "object",
         "type": "string"
        },
        {
         "name": "comment",
         "rawType": "object",
         "type": "string"
        },
        {
         "name": "item_title",
         "rawType": "object",
         "type": "string"
        },
        {
         "name": "item_year",
         "rawType": "object",
         "type": "string"
        },
        {
         "name": "item_kind",
         "rawType": "object",
         "type": "string"
        },
        {
         "name": "item_genres",
         "rawType": "object",
         "type": "string"
        },
        {
         "name": "item_directors",
         "rawType": "object",
         "type": "string"
        },
        {
         "name": "item_screenwriters",
         "rawType": "object",
         "type": "string"
        },
        {
         "name": "item_cast",
         "rawType": "object",
         "type": "string"
        }
       ],
       "conversionMethod": "pd.DataFrame",
       "ref": "b20c7a67-68ca-4226-bc71-907e7ea54bb3",
       "rows": [
        [
         "0",
         "jcfcxXbNBSmREbS9Dc8lKw",
         "2/5",
         "2",
         "2015-01-03",
         "sk",
         " Vsetko je pekne a krasne, ked si odmyslime hlavnu dejovu liniu.  Osudovost, ktora ma vsetko ospravedlnit uraza divaka a spravanie postav v zavere ju jednak popiera a k tomu je na facku.",
         "The F Word",
         "2013",
         "film",
         "['Komedie', 'Drama', 'Romantický']",
         "['Michael Dowse']",
         "['Elan Mastai']",
         "['Daniel Radcliffe', 'Zoe Kazan', 'Rafe Spall', 'Amanda Crew', 'Megan Park', 'Adam Driver', 'Meghan Heffern', 'Jemima Rooper', 'Jonathan Cherry', 'Jordan Hayes', 'Mackenzie Davis', 'Vanessa Matsui', 'Sarah Gadon', 'Tommie-Amber Pirie', 'Oona Chaplin', 'Rebecca Northan', 'Lucius Hoyos', 'George Tchortov', 'Tamara Duarte', 'Adam Fergus']"
        ],
        [
         "1",
         "cOlLqZ72s8kku0Y-e_tH4A",
         "2/5",
         "2",
         "2009-07-28",
         "sk",
         " Zbytočne veľa nechutností (nie som žiadna roztrasená 14 ročná tínedžerka a preto keď už som pri niektorých scénach ja zatváral oči tak ..) a prekombinovaný príbeh. Je to film ktorý sa dá pozerať (raz) a hovoríte si, že to zas nie je taký brak .. no to je oproti prvým dvom dielom veľmi málo.",
         "Saw 3",
         "2006",
         "film",
         "['Horor', 'Thriller', 'Mysteriózní']",
         "['Darren Lynn Bousman']",
         "['Leigh Whannell']",
         "['Tobin Bell', 'Shawnee Smith', 'Angus Macfadyen', 'Bahar Soomekh', 'Dina Meyer', 'Costas Mandylor', 'Niamh Wilson', 'Lyriq Bent', 'Alan Van Sprang', 'Donnie Wahlberg', 'Leigh Whannell', 'Kim Roberts', 'Betsy Russell', 'Shauna Black', 'Brian Paul', 'Dylan Trowbridge', 'Timothy Burd', 'Debra McCabe', 'J. LaRose', 'Nicholas Kaegi', 'Sean Sullivan', 'Mpho Koaho', 'Jane Luk']"
        ],
        [
         "2",
         "nhp0hFOE7bWOfQZETgoE0A",
         "5/5",
         "5",
         "2013-05-07",
         "sk",
         " ďalší výborný Almodóvar. Krásne precítené vnímve ... po rokoch lapaloma v nadhernom prednese ... hned som si ju musel zopakoať  v yutube :)  A vetu KONIEC LáSKY JE JEDNA Z NAJSMUTNEJˇšíCH VECÍ NA SVETE,  tak takú vetu môže vysloviť iba ten, kto to zažil.. Plných päť bodov",
         "Mluv s ní",
         "2002",
         "film",
         "['Drama', 'Romantický', 'Komedie']",
         "['Pedro Almodóvar']",
         "['Pedro Almodóvar']",
         "['Javier Cámara', 'Darío Grandinetti', 'Leonor Watling', 'Rosario Flores', 'Geraldine Chaplin', 'Fele Martínez', 'Paz Vega', 'Elena Anaya', 'Lola Dueñas', 'Ana Fernández', 'Chus Lampreave', 'Loles León', 'José Sancho', 'Caetano Veloso', 'Marisa Paredes', 'Cecilia Roth', 'Fernando Guillén Cuervo', 'Carmen Machi', 'Regina Advento', 'Malou Airaudo', 'Ruth Amarante', 'Pina Bausch', 'Rainer Behr', 'Andrey Berezin', 'Adolfo Fernández', 'Javier Conde', 'Roberto Álvarez', 'Sonia Grande', 'Agustín Almodóvar', 'Esther García', 'Helio Pedregal', 'Ismael Martínez', 'Juan Fernández', 'Alejandro Tous', 'Juan Carlos Martínez Antuña', 'Mariola Fuentes', 'Jorge Puerta Armenta', 'Daphnis Kokkinos']"
        ],
        [
         "3",
         "ZlHLO98bkmmQoL8GsWRJiQ",
         "1/5",
         "1",
         "2014-05-08",
         "sk",
         " Diky hercum by mohl mit serial dobry potencial, ale scenarove a uchopenim to jde hezky ke dnu. Co se tyce studentu, tak bych se divil, ze by zbohatlickyho synka, co vede imbecilni kecy a porad se do nekoho navazi, hnedle ze zacatku nekdo nesrovnal. Nebo, ze by zrovna plesatyho gumaka nikdo neodhalil. Ale prosim, ok..i to se muze stat,.. Ovsem samotne chovani ucitelu, kdy je snad jedina normalni reditelka a zbytek je bud totalne submisivni, ujetej nebo v pripade profesorky tance, ktera v sobe nema spetku sebereflexe a je povysena jak nad studenty, tak nad ostatni spoluherce...je podle me tristni. Uz vubec nemluvim o gestapackym sekretari v podobe Oldricha Navratila, nebo hlidaci v lagru, kteryho si dal Oldrich Vlach. Disciplina a kazen ano, ale nechat se doslova jebat za kazdou volovinu (se skolnym 25k za ctvrtleti),...to bych asi radsi sel dobrovolne do armady.",
         "První krok",
         "2009",
         "seriál",
         "['Drama', 'Komedie']",
         "['Ján Sebechlebský', 'Jiří Vejdělek']",
         "['Jiří Vejdělek', 'Marek Kopčaj', 'Marek Hlavica', 'Štěpán Kopřiva', 'Alexej Bavorov', 'Radka Váchalová', 'Adam Pražák']",
         "['Klára Issová', 'Dominik Turza', 'Pavel Kříž', 'Veronika Žilková', 'Filip Cíl', 'Oldřich Navrátil', 'Jan Cina', 'Linda Fernandez Saez', 'Oldřich Vlach', 'Světlana Nálepková', 'Radka Pavlovčinová', 'Šárka Vaculíková', 'Pavla Vitázková', 'Michal Kavalčík', 'Daniel Svoboda', 'Jiří Dvořák', 'Radovan Klučka', 'Igor Bareš', 'Kateřina Pindejová', 'Dominik Hybler', 'Karel Bělohradský', 'Helena Kramářová', 'Zuzana Onufráková', 'Otmar Brancuzský', 'Zdeněk Žák', 'Ludmila Šafářová', 'Václav Jílek', 'Jakub Tlapák', 'Klára Hajdinová', 'Veronika Khek Kubařová', 'Martin Veliký', 'Kateřina Peřinová', 'Pavel Marek', 'Vlastina Svátková', 'Veronika Jeníková', 'Miroslav Hanuš', 'Charlotte Doubravová', 'Ondrej Antálek', 'Lilian Sarah Fischerová', 'Leona Siswartonová', 'Dušan Vodák', 'Přemysl Pálek', 'Linda Pokorná', 'Zuzana Kábrtová', 'Jakub Lettko', 'Petr Hozman', 'David Lejček', 'Kateřina Navrátilová', 'Jiří Bubeníček', 'Otto Bubeníček', 'Filip Kotek', 'Alexandre Katsapov', 'František Pytloun']"
        ],
        [
         "4",
         "MmGDbK90cvLj7eVwg8c7mw",
         "4/5",
         "4",
         "2011-01-06",
         "sk",
         " Podobné filmy dokazujú, že aj romantické filmy sa dajú točiť inteligentne, a tak, aby sa vyhýbali typickým klišé amerických romantických filmov. Herecké výkony podľa mňa veľmi dobré, rovnako aj príbeh, ktorý udržuje mysterióznosť.",
         "Ondine",
         "2009",
         "film",
         "['Drama', 'Romantický']",
         "['Neil Jordan']",
         "['Neil Jordan']",
         "['Colin Farrell', 'Alicja Bachleda Curuś', 'Stephen Rea', 'Alison Barry', 'Dervla Kirwan', 'Tony Curran', 'Tom Archdeacon', 'Ante Novakovic', 'Norma Sheahan', 'Don Wycherley']"
        ]
       ],
       "shape": {
        "columns": 13,
        "rows": 5
       }
      },
      "text/html": [
       "<div>\n",
       "<style scoped>\n",
       "    .dataframe tbody tr th:only-of-type {\n",
       "        vertical-align: middle;\n",
       "    }\n",
       "\n",
       "    .dataframe tbody tr th {\n",
       "        vertical-align: top;\n",
       "    }\n",
       "\n",
       "    .dataframe thead th {\n",
       "        text-align: right;\n",
       "    }\n",
       "</style>\n",
       "<table border=\"1\" class=\"dataframe\">\n",
       "  <thead>\n",
       "    <tr style=\"text-align: right;\">\n",
       "      <th></th>\n",
       "      <th>review_id</th>\n",
       "      <th>rating_str</th>\n",
       "      <th>rating_int</th>\n",
       "      <th>date</th>\n",
       "      <th>comment_language</th>\n",
       "      <th>comment</th>\n",
       "      <th>item_title</th>\n",
       "      <th>item_year</th>\n",
       "      <th>item_kind</th>\n",
       "      <th>item_genres</th>\n",
       "      <th>item_directors</th>\n",
       "      <th>item_screenwriters</th>\n",
       "      <th>item_cast</th>\n",
       "    </tr>\n",
       "  </thead>\n",
       "  <tbody>\n",
       "    <tr>\n",
       "      <th>0</th>\n",
       "      <td>jcfcxXbNBSmREbS9Dc8lKw</td>\n",
       "      <td>2/5</td>\n",
       "      <td>2</td>\n",
       "      <td>2015-01-03</td>\n",
       "      <td>sk</td>\n",
       "      <td>Vsetko je pekne a krasne, ked si odmyslime hl...</td>\n",
       "      <td>The F Word</td>\n",
       "      <td>2013</td>\n",
       "      <td>film</td>\n",
       "      <td>['Komedie', 'Drama', 'Romantický']</td>\n",
       "      <td>['Michael Dowse']</td>\n",
       "      <td>['Elan Mastai']</td>\n",
       "      <td>['Daniel Radcliffe', 'Zoe Kazan', 'Rafe Spall'...</td>\n",
       "    </tr>\n",
       "    <tr>\n",
       "      <th>1</th>\n",
       "      <td>cOlLqZ72s8kku0Y-e_tH4A</td>\n",
       "      <td>2/5</td>\n",
       "      <td>2</td>\n",
       "      <td>2009-07-28</td>\n",
       "      <td>sk</td>\n",
       "      <td>Zbytočne veľa nechutností (nie som žiadna roz...</td>\n",
       "      <td>Saw 3</td>\n",
       "      <td>2006</td>\n",
       "      <td>film</td>\n",
       "      <td>['Horor', 'Thriller', 'Mysteriózní']</td>\n",
       "      <td>['Darren Lynn Bousman']</td>\n",
       "      <td>['Leigh Whannell']</td>\n",
       "      <td>['Tobin Bell', 'Shawnee Smith', 'Angus Macfady...</td>\n",
       "    </tr>\n",
       "    <tr>\n",
       "      <th>2</th>\n",
       "      <td>nhp0hFOE7bWOfQZETgoE0A</td>\n",
       "      <td>5/5</td>\n",
       "      <td>5</td>\n",
       "      <td>2013-05-07</td>\n",
       "      <td>sk</td>\n",
       "      <td>ďalší výborný Almodóvar. Krásne precítené vní...</td>\n",
       "      <td>Mluv s ní</td>\n",
       "      <td>2002</td>\n",
       "      <td>film</td>\n",
       "      <td>['Drama', 'Romantický', 'Komedie']</td>\n",
       "      <td>['Pedro Almodóvar']</td>\n",
       "      <td>['Pedro Almodóvar']</td>\n",
       "      <td>['Javier Cámara', 'Darío Grandinetti', 'Leonor...</td>\n",
       "    </tr>\n",
       "    <tr>\n",
       "      <th>3</th>\n",
       "      <td>ZlHLO98bkmmQoL8GsWRJiQ</td>\n",
       "      <td>1/5</td>\n",
       "      <td>1</td>\n",
       "      <td>2014-05-08</td>\n",
       "      <td>sk</td>\n",
       "      <td>Diky hercum by mohl mit serial dobry potencia...</td>\n",
       "      <td>První krok</td>\n",
       "      <td>2009</td>\n",
       "      <td>seriál</td>\n",
       "      <td>['Drama', 'Komedie']</td>\n",
       "      <td>['Ján Sebechlebský', 'Jiří Vejdělek']</td>\n",
       "      <td>['Jiří Vejdělek', 'Marek Kopčaj', 'Marek Hlavi...</td>\n",
       "      <td>['Klára Issová', 'Dominik Turza', 'Pavel Kříž'...</td>\n",
       "    </tr>\n",
       "    <tr>\n",
       "      <th>4</th>\n",
       "      <td>MmGDbK90cvLj7eVwg8c7mw</td>\n",
       "      <td>4/5</td>\n",
       "      <td>4</td>\n",
       "      <td>2011-01-06</td>\n",
       "      <td>sk</td>\n",
       "      <td>Podobné filmy dokazujú, že aj romantické film...</td>\n",
       "      <td>Ondine</td>\n",
       "      <td>2009</td>\n",
       "      <td>film</td>\n",
       "      <td>['Drama', 'Romantický']</td>\n",
       "      <td>['Neil Jordan']</td>\n",
       "      <td>['Neil Jordan']</td>\n",
       "      <td>['Colin Farrell', 'Alicja Bachleda Curuś', 'St...</td>\n",
       "    </tr>\n",
       "  </tbody>\n",
       "</table>\n",
       "</div>"
      ],
      "text/plain": [
       "                review_id rating_str  rating_int        date comment_language  \\\n",
       "0  jcfcxXbNBSmREbS9Dc8lKw        2/5           2  2015-01-03               sk   \n",
       "1  cOlLqZ72s8kku0Y-e_tH4A        2/5           2  2009-07-28               sk   \n",
       "2  nhp0hFOE7bWOfQZETgoE0A        5/5           5  2013-05-07               sk   \n",
       "3  ZlHLO98bkmmQoL8GsWRJiQ        1/5           1  2014-05-08               sk   \n",
       "4  MmGDbK90cvLj7eVwg8c7mw        4/5           4  2011-01-06               sk   \n",
       "\n",
       "                                             comment  item_title item_year  \\\n",
       "0   Vsetko je pekne a krasne, ked si odmyslime hl...  The F Word      2013   \n",
       "1   Zbytočne veľa nechutností (nie som žiadna roz...       Saw 3      2006   \n",
       "2   ďalší výborný Almodóvar. Krásne precítené vní...   Mluv s ní      2002   \n",
       "3   Diky hercum by mohl mit serial dobry potencia...  První krok      2009   \n",
       "4   Podobné filmy dokazujú, že aj romantické film...      Ondine      2009   \n",
       "\n",
       "  item_kind                           item_genres  \\\n",
       "0      film    ['Komedie', 'Drama', 'Romantický']   \n",
       "1      film  ['Horor', 'Thriller', 'Mysteriózní']   \n",
       "2      film    ['Drama', 'Romantický', 'Komedie']   \n",
       "3    seriál                  ['Drama', 'Komedie']   \n",
       "4      film               ['Drama', 'Romantický']   \n",
       "\n",
       "                          item_directors  \\\n",
       "0                      ['Michael Dowse']   \n",
       "1                ['Darren Lynn Bousman']   \n",
       "2                    ['Pedro Almodóvar']   \n",
       "3  ['Ján Sebechlebský', 'Jiří Vejdělek']   \n",
       "4                        ['Neil Jordan']   \n",
       "\n",
       "                                  item_screenwriters  \\\n",
       "0                                    ['Elan Mastai']   \n",
       "1                                 ['Leigh Whannell']   \n",
       "2                                ['Pedro Almodóvar']   \n",
       "3  ['Jiří Vejdělek', 'Marek Kopčaj', 'Marek Hlavi...   \n",
       "4                                    ['Neil Jordan']   \n",
       "\n",
       "                                           item_cast  \n",
       "0  ['Daniel Radcliffe', 'Zoe Kazan', 'Rafe Spall'...  \n",
       "1  ['Tobin Bell', 'Shawnee Smith', 'Angus Macfady...  \n",
       "2  ['Javier Cámara', 'Darío Grandinetti', 'Leonor...  \n",
       "3  ['Klára Issová', 'Dominik Turza', 'Pavel Kříž'...  \n",
       "4  ['Colin Farrell', 'Alicja Bachleda Curuś', 'St...  "
      ]
     },
     "execution_count": 47,
     "metadata": {},
     "output_type": "execute_result"
    }
   ],
   "source": [
    "train_df_csfd = pd.read_csv(\"sk_csfd-movie-reviews_raw_train.csv\")\n",
    "train_df_csfd.head()"
   ]
  },
  {
   "cell_type": "markdown",
   "metadata": {},
   "source": [
    "### Data preparation -- sk_csfd-movie-reviews"
   ]
  },
  {
   "cell_type": "code",
   "execution_count": 48,
   "metadata": {},
   "outputs": [
    {
     "data": {
      "application/vnd.microsoft.datawrangler.viewer.v0+json": {
       "columns": [
        {
         "name": "index",
         "rawType": "int64",
         "type": "integer"
        },
        {
         "name": "rating_int",
         "rawType": "int64",
         "type": "integer"
        },
        {
         "name": "comment",
         "rawType": "object",
         "type": "string"
        }
       ],
       "conversionMethod": "pd.DataFrame",
       "ref": "4dd52372-c018-41a7-9bd0-9b033bc190c1",
       "rows": [
        [
         "24995",
         "4",
         " Zábava to bola skvelá, ale chcem vidieť babu, ktorá dá prednosť NIcholsonovi pred Reevesom.:)"
        ],
        [
         "24996",
         "2",
         " Nudne spracovaný príbeh s dosť naivným scenárom. Správanie postáv a niektoré dialógy sú na tyčku, ako aj celá postava toho talibanského prenasledovateľa, pre ktorého nie je nič dôležitejšie ako dolapiť nejakú novinárku. Francúzske špeciálne jednotky môžu byť tiež spokojné, misia sa podarila, síce prišli o takmer celú jednotku vycvičených vojakov, no novinárka je zachránená, môže sa oslavovať. Realistickejšia mi príde aj Disneyho Fantázia ako toto."
        ],
        [
         "24997",
         "3",
         " 2 hodiny cakania na skvele rozuzlenie....a koniec absolutne odflaknuty, amatersky, detinsky, trapny.... 3 hviezdicky za skvelu hlavnu postavu, ze postupne budovanie atmosfery a za originalne ponatie lakaciek. Mohol to byt top film, avsak to by musel niekto aj rozmyslat nad scenarom...."
        ],
        [
         "24998",
         "2",
         " ide o lepsiu zalezitost nez je jednotka, no stale je to o tom istom (co je teda podla mna narozdiel od vacsiny, na skodu veci)..plus tu ma este o to viac rozculuje ten neustale horedole pobehujuci neschopny trol Pleasance..\na hlavne - (a to sa tyka vsetkych halloweenov), niektore myersove obete si zasluzia nominaciu na darwinovu cenu..naozaj bol problem natocit inteligentny slasher, ktory by neurazal divakov nad 15 rokov? **"
        ],
        [
         "24999",
         "0",
         " Toto je k smiechu! Všetci čo na tomto robili by sa mali hanbiť! Barbie pobehujúca so zbraňami, asi tak sa dá opísať táto blbosť. Ale že som sa aspoň na úbohosti tohto seriálu smial, dávam 1%."
        ]
       ],
       "shape": {
        "columns": 2,
        "rows": 5
       }
      },
      "text/html": [
       "<div>\n",
       "<style scoped>\n",
       "    .dataframe tbody tr th:only-of-type {\n",
       "        vertical-align: middle;\n",
       "    }\n",
       "\n",
       "    .dataframe tbody tr th {\n",
       "        vertical-align: top;\n",
       "    }\n",
       "\n",
       "    .dataframe thead th {\n",
       "        text-align: right;\n",
       "    }\n",
       "</style>\n",
       "<table border=\"1\" class=\"dataframe\">\n",
       "  <thead>\n",
       "    <tr style=\"text-align: right;\">\n",
       "      <th></th>\n",
       "      <th>rating_int</th>\n",
       "      <th>comment</th>\n",
       "    </tr>\n",
       "  </thead>\n",
       "  <tbody>\n",
       "    <tr>\n",
       "      <th>24995</th>\n",
       "      <td>4</td>\n",
       "      <td>Zábava to bola skvelá, ale chcem vidieť babu,...</td>\n",
       "    </tr>\n",
       "    <tr>\n",
       "      <th>24996</th>\n",
       "      <td>2</td>\n",
       "      <td>Nudne spracovaný príbeh s dosť naivným scenár...</td>\n",
       "    </tr>\n",
       "    <tr>\n",
       "      <th>24997</th>\n",
       "      <td>3</td>\n",
       "      <td>2 hodiny cakania na skvele rozuzlenie....a ko...</td>\n",
       "    </tr>\n",
       "    <tr>\n",
       "      <th>24998</th>\n",
       "      <td>2</td>\n",
       "      <td>ide o lepsiu zalezitost nez je jednotka, no s...</td>\n",
       "    </tr>\n",
       "    <tr>\n",
       "      <th>24999</th>\n",
       "      <td>0</td>\n",
       "      <td>Toto je k smiechu! Všetci čo na tomto robili ...</td>\n",
       "    </tr>\n",
       "  </tbody>\n",
       "</table>\n",
       "</div>"
      ],
      "text/plain": [
       "       rating_int                                            comment\n",
       "24995           4   Zábava to bola skvelá, ale chcem vidieť babu,...\n",
       "24996           2   Nudne spracovaný príbeh s dosť naivným scenár...\n",
       "24997           3   2 hodiny cakania na skvele rozuzlenie....a ko...\n",
       "24998           2   ide o lepsiu zalezitost nez je jednotka, no s...\n",
       "24999           0   Toto je k smiechu! Všetci čo na tomto robili ..."
      ]
     },
     "execution_count": 48,
     "metadata": {},
     "output_type": "execute_result"
    }
   ],
   "source": [
    "df = train_df_csfd.drop([\"review_id\", \"rating_str\", \"date\", \"comment_language\", \"item_title\", \"item_year\", \"item_kind\", \"item_genres\", \"item_directors\", \"item_screenwriters\", \"item_cast\"], axis=1)\n",
    "df.tail()\n"
   ]
  },
  {
   "cell_type": "code",
   "execution_count": null,
   "metadata": {},
   "outputs": [
    {
     "data": {
      "application/vnd.microsoft.datawrangler.viewer.v0+json": {
       "columns": [
        {
         "name": "index",
         "rawType": "int64",
         "type": "integer"
        },
        {
         "name": "comment",
         "rawType": "object",
         "type": "string"
        },
        {
         "name": "rating",
         "rawType": "object",
         "type": "string"
        }
       ],
       "conversionMethod": "pd.DataFrame",
       "ref": "1736c142-c718-42ce-90bc-cafa7211adb6",
       "rows": [
        [
         "0",
         " Vsetko je pekne a krasne, ked si odmyslime hlavnu dejovu liniu.  Osudovost, ktora ma vsetko ospravedlnit uraza divaka a spravanie postav v zavere ju jednak popiera a k tomu je na facku.",
         "negative"
        ],
        [
         "1",
         " Zbytočne veľa nechutností (nie som žiadna roztrasená 14 ročná tínedžerka a preto keď už som pri niektorých scénach ja zatváral oči tak ..) a prekombinovaný príbeh. Je to film ktorý sa dá pozerať (raz) a hovoríte si, že to zas nie je taký brak .. no to je oproti prvým dvom dielom veľmi málo.",
         "negative"
        ],
        [
         "2",
         " ďalší výborný Almodóvar. Krásne precítené vnímve ... po rokoch lapaloma v nadhernom prednese ... hned som si ju musel zopakoať  v yutube :)  A vetu KONIEC LáSKY JE JEDNA Z NAJSMUTNEJˇšíCH VECÍ NA SVETE,  tak takú vetu môže vysloviť iba ten, kto to zažil.. Plných päť bodov",
         "positive"
        ],
        [
         "3",
         " Diky hercum by mohl mit serial dobry potencial, ale scenarove a uchopenim to jde hezky ke dnu. Co se tyce studentu, tak bych se divil, ze by zbohatlickyho synka, co vede imbecilni kecy a porad se do nekoho navazi, hnedle ze zacatku nekdo nesrovnal. Nebo, ze by zrovna plesatyho gumaka nikdo neodhalil. Ale prosim, ok..i to se muze stat,.. Ovsem samotne chovani ucitelu, kdy je snad jedina normalni reditelka a zbytek je bud totalne submisivni, ujetej nebo v pripade profesorky tance, ktera v sobe nema spetku sebereflexe a je povysena jak nad studenty, tak nad ostatni spoluherce...je podle me tristni. Uz vubec nemluvim o gestapackym sekretari v podobe Oldricha Navratila, nebo hlidaci v lagru, kteryho si dal Oldrich Vlach. Disciplina a kazen ano, ale nechat se doslova jebat za kazdou volovinu (se skolnym 25k za ctvrtleti),...to bych asi radsi sel dobrovolne do armady.",
         "negative"
        ],
        [
         "4",
         " Podobné filmy dokazujú, že aj romantické filmy sa dajú točiť inteligentne, a tak, aby sa vyhýbali typickým klišé amerických romantických filmov. Herecké výkony podľa mňa veľmi dobré, rovnako aj príbeh, ktorý udržuje mysterióznosť.",
         "positive"
        ]
       ],
       "shape": {
        "columns": 2,
        "rows": 5
       }
      },
      "text/html": [
       "<div>\n",
       "<style scoped>\n",
       "    .dataframe tbody tr th:only-of-type {\n",
       "        vertical-align: middle;\n",
       "    }\n",
       "\n",
       "    .dataframe tbody tr th {\n",
       "        vertical-align: top;\n",
       "    }\n",
       "\n",
       "    .dataframe thead th {\n",
       "        text-align: right;\n",
       "    }\n",
       "</style>\n",
       "<table border=\"1\" class=\"dataframe\">\n",
       "  <thead>\n",
       "    <tr style=\"text-align: right;\">\n",
       "      <th></th>\n",
       "      <th>comment</th>\n",
       "      <th>rating</th>\n",
       "    </tr>\n",
       "  </thead>\n",
       "  <tbody>\n",
       "    <tr>\n",
       "      <th>0</th>\n",
       "      <td>Vsetko je pekne a krasne, ked si odmyslime hl...</td>\n",
       "      <td>negative</td>\n",
       "    </tr>\n",
       "    <tr>\n",
       "      <th>1</th>\n",
       "      <td>Zbytočne veľa nechutností (nie som žiadna roz...</td>\n",
       "      <td>negative</td>\n",
       "    </tr>\n",
       "    <tr>\n",
       "      <th>2</th>\n",
       "      <td>ďalší výborný Almodóvar. Krásne precítené vní...</td>\n",
       "      <td>positive</td>\n",
       "    </tr>\n",
       "    <tr>\n",
       "      <th>3</th>\n",
       "      <td>Diky hercum by mohl mit serial dobry potencia...</td>\n",
       "      <td>negative</td>\n",
       "    </tr>\n",
       "    <tr>\n",
       "      <th>4</th>\n",
       "      <td>Podobné filmy dokazujú, že aj romantické film...</td>\n",
       "      <td>positive</td>\n",
       "    </tr>\n",
       "  </tbody>\n",
       "</table>\n",
       "</div>"
      ],
      "text/plain": [
       "                                             comment    rating\n",
       "0   Vsetko je pekne a krasne, ked si odmyslime hl...  negative\n",
       "1   Zbytočne veľa nechutností (nie som žiadna roz...  negative\n",
       "2   ďalší výborný Almodóvar. Krásne precítené vní...  positive\n",
       "3   Diky hercum by mohl mit serial dobry potencia...  negative\n",
       "4   Podobné filmy dokazujú, že aj romantické film...  positive"
      ]
     },
     "execution_count": 49,
     "metadata": {},
     "output_type": "execute_result"
    }
   ],
   "source": [
    "df[\"rating\"] = df[\"rating_int\"].apply(\n",
    "    lambda row: 'negative' if row <= 2\n",
    "                else ('neutral' if row == 3 else 'positive')\n",
    ")\n",
    "df = df.drop([\"rating_int\"], axis=1)"
   ]
  },
  {
   "cell_type": "code",
   "execution_count": 50,
   "metadata": {},
   "outputs": [
    {
     "data": {
      "application/vnd.microsoft.datawrangler.viewer.v0+json": {
       "columns": [
        {
         "name": "index",
         "rawType": "int64",
         "type": "integer"
        },
        {
         "name": "comment",
         "rawType": "object",
         "type": "string"
        },
        {
         "name": "rating",
         "rawType": "object",
         "type": "string"
        }
       ],
       "conversionMethod": "pd.DataFrame",
       "ref": "a96f65f0-70e4-4d58-9623-cfe7cf86f3ae",
       "rows": [
        [
         "0",
         " Vsetko je pekne a krasne, ked si odmyslime hlavnu dejovu liniu.  Osudovost, ktora ma vsetko ospravedlnit uraza divaka a spravanie postav v zavere ju jednak popiera a k tomu je na facku.",
         "negative"
        ],
        [
         "1",
         " Zbytočne veľa nechutností (nie som žiadna roztrasená 14 ročná tínedžerka a preto keď už som pri niektorých scénach ja zatváral oči tak ..) a prekombinovaný príbeh. Je to film ktorý sa dá pozerať (raz) a hovoríte si, že to zas nie je taký brak .. no to je oproti prvým dvom dielom veľmi málo.",
         "negative"
        ],
        [
         "2",
         " ďalší výborný Almodóvar. Krásne precítené vnímve ... po rokoch lapaloma v nadhernom prednese ... hned som si ju musel zopakoať  v yutube :)  A vetu KONIEC LáSKY JE JEDNA Z NAJSMUTNEJˇšíCH VECÍ NA SVETE,  tak takú vetu môže vysloviť iba ten, kto to zažil.. Plných päť bodov",
         "positive"
        ],
        [
         "3",
         " Diky hercum by mohl mit serial dobry potencial, ale scenarove a uchopenim to jde hezky ke dnu. Co se tyce studentu, tak bych se divil, ze by zbohatlickyho synka, co vede imbecilni kecy a porad se do nekoho navazi, hnedle ze zacatku nekdo nesrovnal. Nebo, ze by zrovna plesatyho gumaka nikdo neodhalil. Ale prosim, ok..i to se muze stat,.. Ovsem samotne chovani ucitelu, kdy je snad jedina normalni reditelka a zbytek je bud totalne submisivni, ujetej nebo v pripade profesorky tance, ktera v sobe nema spetku sebereflexe a je povysena jak nad studenty, tak nad ostatni spoluherce...je podle me tristni. Uz vubec nemluvim o gestapackym sekretari v podobe Oldricha Navratila, nebo hlidaci v lagru, kteryho si dal Oldrich Vlach. Disciplina a kazen ano, ale nechat se doslova jebat za kazdou volovinu (se skolnym 25k za ctvrtleti),...to bych asi radsi sel dobrovolne do armady.",
         "negative"
        ],
        [
         "4",
         " Podobné filmy dokazujú, že aj romantické filmy sa dajú točiť inteligentne, a tak, aby sa vyhýbali typickým klišé amerických romantických filmov. Herecké výkony podľa mňa veľmi dobré, rovnako aj príbeh, ktorý udržuje mysterióznosť.",
         "positive"
        ]
       ],
       "shape": {
        "columns": 2,
        "rows": 5
       }
      },
      "text/html": [
       "<div>\n",
       "<style scoped>\n",
       "    .dataframe tbody tr th:only-of-type {\n",
       "        vertical-align: middle;\n",
       "    }\n",
       "\n",
       "    .dataframe tbody tr th {\n",
       "        vertical-align: top;\n",
       "    }\n",
       "\n",
       "    .dataframe thead th {\n",
       "        text-align: right;\n",
       "    }\n",
       "</style>\n",
       "<table border=\"1\" class=\"dataframe\">\n",
       "  <thead>\n",
       "    <tr style=\"text-align: right;\">\n",
       "      <th></th>\n",
       "      <th>comment</th>\n",
       "      <th>rating</th>\n",
       "    </tr>\n",
       "  </thead>\n",
       "  <tbody>\n",
       "    <tr>\n",
       "      <th>0</th>\n",
       "      <td>Vsetko je pekne a krasne, ked si odmyslime hl...</td>\n",
       "      <td>negative</td>\n",
       "    </tr>\n",
       "    <tr>\n",
       "      <th>1</th>\n",
       "      <td>Zbytočne veľa nechutností (nie som žiadna roz...</td>\n",
       "      <td>negative</td>\n",
       "    </tr>\n",
       "    <tr>\n",
       "      <th>2</th>\n",
       "      <td>ďalší výborný Almodóvar. Krásne precítené vní...</td>\n",
       "      <td>positive</td>\n",
       "    </tr>\n",
       "    <tr>\n",
       "      <th>3</th>\n",
       "      <td>Diky hercum by mohl mit serial dobry potencia...</td>\n",
       "      <td>negative</td>\n",
       "    </tr>\n",
       "    <tr>\n",
       "      <th>4</th>\n",
       "      <td>Podobné filmy dokazujú, že aj romantické film...</td>\n",
       "      <td>positive</td>\n",
       "    </tr>\n",
       "  </tbody>\n",
       "</table>\n",
       "</div>"
      ],
      "text/plain": [
       "                                             comment    rating\n",
       "0   Vsetko je pekne a krasne, ked si odmyslime hl...  negative\n",
       "1   Zbytočne veľa nechutností (nie som žiadna roz...  negative\n",
       "2   ďalší výborný Almodóvar. Krásne precítené vní...  positive\n",
       "3   Diky hercum by mohl mit serial dobry potencia...  negative\n",
       "4   Podobné filmy dokazujú, že aj romantické film...  positive"
      ]
     },
     "execution_count": 50,
     "metadata": {},
     "output_type": "execute_result"
    }
   ],
   "source": [
    "df.head()"
   ]
  },
  {
   "cell_type": "code",
   "execution_count": null,
   "metadata": {},
   "outputs": [],
   "source": []
  },
  {
   "cell_type": "code",
   "execution_count": null,
   "metadata": {},
   "outputs": [],
   "source": []
  }
 ],
 "metadata": {
  "kernelspec": {
   "display_name": "Python 3",
   "language": "python",
   "name": "python3"
  },
  "language_info": {
   "codemirror_mode": {
    "name": "ipython",
    "version": 3
   },
   "file_extension": ".py",
   "mimetype": "text/x-python",
   "name": "python",
   "nbconvert_exporter": "python",
   "pygments_lexer": "ipython3",
   "version": "3.12.7"
  }
 },
 "nbformat": 4,
 "nbformat_minor": 2
}
