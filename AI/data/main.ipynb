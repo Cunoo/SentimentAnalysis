{
 "cells": [
  {
   "cell_type": "code",
   "execution_count": 1,
   "metadata": {},
   "outputs": [
    {
     "name": "stderr",
     "output_type": "stream",
     "text": [
      "/Library/Frameworks/Python.framework/Versions/3.12/lib/python3.12/site-packages/tqdm/auto.py:21: TqdmWarning: IProgress not found. Please update jupyter and ipywidgets. See https://ipywidgets.readthedocs.io/en/stable/user_install.html\n",
      "  from .autonotebook import tqdm as notebook_tqdm\n"
     ]
    }
   ],
   "source": [
    "from datasets import load_dataset\n",
    "import pandas as pd\n",
    "\n",
    "# Load the dataset\n",
    "ds = load_dataset(\"fewshot-goes-multilingual/sk_csfd-movie-reviews\")\n",
    "train_csfd = ds[\"train\"]\n",
    "test_csfd = ds[\"test\"]\n",
    "\n",
    "# Convert to pandas DataFrames\n",
    "train_df_csfd = pd.DataFrame(train_csfd)\n",
    "test_df_csfd = pd.DataFrame(test_csfd)\n",
    "\n",
    "# If you want to save them to CSV\n",
    "train_df_csfd.to_csv(\"sk_csfd-movie-reviews_raw_train.csv\", index=False)\n",
    "test_df_csfd.to_csv(\"sk_csfd-movie-reviews_raw_test.csv\", index=False)"
   ]
  },
  {
   "cell_type": "code",
   "execution_count": 2,
   "metadata": {},
   "outputs": [
    {
     "data": {
      "application/vnd.microsoft.datawrangler.viewer.v0+json": {
       "columns": [
        {
         "name": "index",
         "rawType": "int64",
         "type": "integer"
        },
        {
         "name": "review_id",
         "rawType": "object",
         "type": "string"
        },
        {
         "name": "rating_str",
         "rawType": "object",
         "type": "string"
        },
        {
         "name": "rating_int",
         "rawType": "int64",
         "type": "integer"
        },
        {
         "name": "date",
         "rawType": "object",
         "type": "string"
        },
        {
         "name": "comment_language",
         "rawType": "object",
         "type": "string"
        },
        {
         "name": "comment",
         "rawType": "object",
         "type": "string"
        },
        {
         "name": "item_title",
         "rawType": "object",
         "type": "string"
        },
        {
         "name": "item_year",
         "rawType": "object",
         "type": "string"
        },
        {
         "name": "item_kind",
         "rawType": "object",
         "type": "string"
        },
        {
         "name": "item_genres",
         "rawType": "object",
         "type": "string"
        },
        {
         "name": "item_directors",
         "rawType": "object",
         "type": "string"
        },
        {
         "name": "item_screenwriters",
         "rawType": "object",
         "type": "string"
        },
        {
         "name": "item_cast",
         "rawType": "object",
         "type": "string"
        }
       ],
       "conversionMethod": "pd.DataFrame",
       "ref": "4dd0116a-6913-42ba-b1c7-02cc0dde2dfd",
       "rows": [
        [
         "0",
         "jcfcxXbNBSmREbS9Dc8lKw",
         "2/5",
         "2",
         "2015-01-03",
         "sk",
         " Vsetko je pekne a krasne, ked si odmyslime hlavnu dejovu liniu.  Osudovost, ktora ma vsetko ospravedlnit uraza divaka a spravanie postav v zavere ju jednak popiera a k tomu je na facku.",
         "The F Word",
         "2013",
         "film",
         "['Komedie', 'Drama', 'Romantický']",
         "['Michael Dowse']",
         "['Elan Mastai']",
         "['Daniel Radcliffe', 'Zoe Kazan', 'Rafe Spall', 'Amanda Crew', 'Megan Park', 'Adam Driver', 'Meghan Heffern', 'Jemima Rooper', 'Jonathan Cherry', 'Jordan Hayes', 'Mackenzie Davis', 'Vanessa Matsui', 'Sarah Gadon', 'Tommie-Amber Pirie', 'Oona Chaplin', 'Rebecca Northan', 'Lucius Hoyos', 'George Tchortov', 'Tamara Duarte', 'Adam Fergus']"
        ],
        [
         "1",
         "cOlLqZ72s8kku0Y-e_tH4A",
         "2/5",
         "2",
         "2009-07-28",
         "sk",
         " Zbytočne veľa nechutností (nie som žiadna roztrasená 14 ročná tínedžerka a preto keď už som pri niektorých scénach ja zatváral oči tak ..) a prekombinovaný príbeh. Je to film ktorý sa dá pozerať (raz) a hovoríte si, že to zas nie je taký brak .. no to je oproti prvým dvom dielom veľmi málo.",
         "Saw 3",
         "2006",
         "film",
         "['Horor', 'Thriller', 'Mysteriózní']",
         "['Darren Lynn Bousman']",
         "['Leigh Whannell']",
         "['Tobin Bell', 'Shawnee Smith', 'Angus Macfadyen', 'Bahar Soomekh', 'Dina Meyer', 'Costas Mandylor', 'Niamh Wilson', 'Lyriq Bent', 'Alan Van Sprang', 'Donnie Wahlberg', 'Leigh Whannell', 'Kim Roberts', 'Betsy Russell', 'Shauna Black', 'Brian Paul', 'Dylan Trowbridge', 'Timothy Burd', 'Debra McCabe', 'J. LaRose', 'Nicholas Kaegi', 'Sean Sullivan', 'Mpho Koaho', 'Jane Luk']"
        ],
        [
         "2",
         "nhp0hFOE7bWOfQZETgoE0A",
         "5/5",
         "5",
         "2013-05-07",
         "sk",
         " ďalší výborný Almodóvar. Krásne precítené vnímve ... po rokoch lapaloma v nadhernom prednese ... hned som si ju musel zopakoať  v yutube :)  A vetu KONIEC LáSKY JE JEDNA Z NAJSMUTNEJˇšíCH VECÍ NA SVETE,  tak takú vetu môže vysloviť iba ten, kto to zažil.. Plných päť bodov",
         "Mluv s ní",
         "2002",
         "film",
         "['Drama', 'Romantický', 'Komedie']",
         "['Pedro Almodóvar']",
         "['Pedro Almodóvar']",
         "['Javier Cámara', 'Darío Grandinetti', 'Leonor Watling', 'Rosario Flores', 'Geraldine Chaplin', 'Fele Martínez', 'Paz Vega', 'Elena Anaya', 'Lola Dueñas', 'Ana Fernández', 'Chus Lampreave', 'Loles León', 'José Sancho', 'Caetano Veloso', 'Marisa Paredes', 'Cecilia Roth', 'Fernando Guillén Cuervo', 'Carmen Machi', 'Regina Advento', 'Malou Airaudo', 'Ruth Amarante', 'Pina Bausch', 'Rainer Behr', 'Andrey Berezin', 'Adolfo Fernández', 'Javier Conde', 'Roberto Álvarez', 'Sonia Grande', 'Agustín Almodóvar', 'Esther García', 'Helio Pedregal', 'Ismael Martínez', 'Juan Fernández', 'Alejandro Tous', 'Juan Carlos Martínez Antuña', 'Mariola Fuentes', 'Jorge Puerta Armenta', 'Daphnis Kokkinos']"
        ],
        [
         "3",
         "ZlHLO98bkmmQoL8GsWRJiQ",
         "1/5",
         "1",
         "2014-05-08",
         "sk",
         " Diky hercum by mohl mit serial dobry potencial, ale scenarove a uchopenim to jde hezky ke dnu. Co se tyce studentu, tak bych se divil, ze by zbohatlickyho synka, co vede imbecilni kecy a porad se do nekoho navazi, hnedle ze zacatku nekdo nesrovnal. Nebo, ze by zrovna plesatyho gumaka nikdo neodhalil. Ale prosim, ok..i to se muze stat,.. Ovsem samotne chovani ucitelu, kdy je snad jedina normalni reditelka a zbytek je bud totalne submisivni, ujetej nebo v pripade profesorky tance, ktera v sobe nema spetku sebereflexe a je povysena jak nad studenty, tak nad ostatni spoluherce...je podle me tristni. Uz vubec nemluvim o gestapackym sekretari v podobe Oldricha Navratila, nebo hlidaci v lagru, kteryho si dal Oldrich Vlach. Disciplina a kazen ano, ale nechat se doslova jebat za kazdou volovinu (se skolnym 25k za ctvrtleti),...to bych asi radsi sel dobrovolne do armady.",
         "První krok",
         "2009",
         "seriál",
         "['Drama', 'Komedie']",
         "['Ján Sebechlebský', 'Jiří Vejdělek']",
         "['Jiří Vejdělek', 'Marek Kopčaj', 'Marek Hlavica', 'Štěpán Kopřiva', 'Alexej Bavorov', 'Radka Váchalová', 'Adam Pražák']",
         "['Klára Issová', 'Dominik Turza', 'Pavel Kříž', 'Veronika Žilková', 'Filip Cíl', 'Oldřich Navrátil', 'Jan Cina', 'Linda Fernandez Saez', 'Oldřich Vlach', 'Světlana Nálepková', 'Radka Pavlovčinová', 'Šárka Vaculíková', 'Pavla Vitázková', 'Michal Kavalčík', 'Daniel Svoboda', 'Jiří Dvořák', 'Radovan Klučka', 'Igor Bareš', 'Kateřina Pindejová', 'Dominik Hybler', 'Karel Bělohradský', 'Helena Kramářová', 'Zuzana Onufráková', 'Otmar Brancuzský', 'Zdeněk Žák', 'Ludmila Šafářová', 'Václav Jílek', 'Jakub Tlapák', 'Klára Hajdinová', 'Veronika Khek Kubařová', 'Martin Veliký', 'Kateřina Peřinová', 'Pavel Marek', 'Vlastina Svátková', 'Veronika Jeníková', 'Miroslav Hanuš', 'Charlotte Doubravová', 'Ondrej Antálek', 'Lilian Sarah Fischerová', 'Leona Siswartonová', 'Dušan Vodák', 'Přemysl Pálek', 'Linda Pokorná', 'Zuzana Kábrtová', 'Jakub Lettko', 'Petr Hozman', 'David Lejček', 'Kateřina Navrátilová', 'Jiří Bubeníček', 'Otto Bubeníček', 'Filip Kotek', 'Alexandre Katsapov', 'František Pytloun']"
        ],
        [
         "4",
         "MmGDbK90cvLj7eVwg8c7mw",
         "4/5",
         "4",
         "2011-01-06",
         "sk",
         " Podobné filmy dokazujú, že aj romantické filmy sa dajú točiť inteligentne, a tak, aby sa vyhýbali typickým klišé amerických romantických filmov. Herecké výkony podľa mňa veľmi dobré, rovnako aj príbeh, ktorý udržuje mysterióznosť.",
         "Ondine",
         "2009",
         "film",
         "['Drama', 'Romantický']",
         "['Neil Jordan']",
         "['Neil Jordan']",
         "['Colin Farrell', 'Alicja Bachleda Curuś', 'Stephen Rea', 'Alison Barry', 'Dervla Kirwan', 'Tony Curran', 'Tom Archdeacon', 'Ante Novakovic', 'Norma Sheahan', 'Don Wycherley']"
        ]
       ],
       "shape": {
        "columns": 13,
        "rows": 5
       }
      },
      "text/html": [
       "<div>\n",
       "<style scoped>\n",
       "    .dataframe tbody tr th:only-of-type {\n",
       "        vertical-align: middle;\n",
       "    }\n",
       "\n",
       "    .dataframe tbody tr th {\n",
       "        vertical-align: top;\n",
       "    }\n",
       "\n",
       "    .dataframe thead th {\n",
       "        text-align: right;\n",
       "    }\n",
       "</style>\n",
       "<table border=\"1\" class=\"dataframe\">\n",
       "  <thead>\n",
       "    <tr style=\"text-align: right;\">\n",
       "      <th></th>\n",
       "      <th>review_id</th>\n",
       "      <th>rating_str</th>\n",
       "      <th>rating_int</th>\n",
       "      <th>date</th>\n",
       "      <th>comment_language</th>\n",
       "      <th>comment</th>\n",
       "      <th>item_title</th>\n",
       "      <th>item_year</th>\n",
       "      <th>item_kind</th>\n",
       "      <th>item_genres</th>\n",
       "      <th>item_directors</th>\n",
       "      <th>item_screenwriters</th>\n",
       "      <th>item_cast</th>\n",
       "    </tr>\n",
       "  </thead>\n",
       "  <tbody>\n",
       "    <tr>\n",
       "      <th>0</th>\n",
       "      <td>jcfcxXbNBSmREbS9Dc8lKw</td>\n",
       "      <td>2/5</td>\n",
       "      <td>2</td>\n",
       "      <td>2015-01-03</td>\n",
       "      <td>sk</td>\n",
       "      <td>Vsetko je pekne a krasne, ked si odmyslime hl...</td>\n",
       "      <td>The F Word</td>\n",
       "      <td>2013</td>\n",
       "      <td>film</td>\n",
       "      <td>['Komedie', 'Drama', 'Romantický']</td>\n",
       "      <td>['Michael Dowse']</td>\n",
       "      <td>['Elan Mastai']</td>\n",
       "      <td>['Daniel Radcliffe', 'Zoe Kazan', 'Rafe Spall'...</td>\n",
       "    </tr>\n",
       "    <tr>\n",
       "      <th>1</th>\n",
       "      <td>cOlLqZ72s8kku0Y-e_tH4A</td>\n",
       "      <td>2/5</td>\n",
       "      <td>2</td>\n",
       "      <td>2009-07-28</td>\n",
       "      <td>sk</td>\n",
       "      <td>Zbytočne veľa nechutností (nie som žiadna roz...</td>\n",
       "      <td>Saw 3</td>\n",
       "      <td>2006</td>\n",
       "      <td>film</td>\n",
       "      <td>['Horor', 'Thriller', 'Mysteriózní']</td>\n",
       "      <td>['Darren Lynn Bousman']</td>\n",
       "      <td>['Leigh Whannell']</td>\n",
       "      <td>['Tobin Bell', 'Shawnee Smith', 'Angus Macfady...</td>\n",
       "    </tr>\n",
       "    <tr>\n",
       "      <th>2</th>\n",
       "      <td>nhp0hFOE7bWOfQZETgoE0A</td>\n",
       "      <td>5/5</td>\n",
       "      <td>5</td>\n",
       "      <td>2013-05-07</td>\n",
       "      <td>sk</td>\n",
       "      <td>ďalší výborný Almodóvar. Krásne precítené vní...</td>\n",
       "      <td>Mluv s ní</td>\n",
       "      <td>2002</td>\n",
       "      <td>film</td>\n",
       "      <td>['Drama', 'Romantický', 'Komedie']</td>\n",
       "      <td>['Pedro Almodóvar']</td>\n",
       "      <td>['Pedro Almodóvar']</td>\n",
       "      <td>['Javier Cámara', 'Darío Grandinetti', 'Leonor...</td>\n",
       "    </tr>\n",
       "    <tr>\n",
       "      <th>3</th>\n",
       "      <td>ZlHLO98bkmmQoL8GsWRJiQ</td>\n",
       "      <td>1/5</td>\n",
       "      <td>1</td>\n",
       "      <td>2014-05-08</td>\n",
       "      <td>sk</td>\n",
       "      <td>Diky hercum by mohl mit serial dobry potencia...</td>\n",
       "      <td>První krok</td>\n",
       "      <td>2009</td>\n",
       "      <td>seriál</td>\n",
       "      <td>['Drama', 'Komedie']</td>\n",
       "      <td>['Ján Sebechlebský', 'Jiří Vejdělek']</td>\n",
       "      <td>['Jiří Vejdělek', 'Marek Kopčaj', 'Marek Hlavi...</td>\n",
       "      <td>['Klára Issová', 'Dominik Turza', 'Pavel Kříž'...</td>\n",
       "    </tr>\n",
       "    <tr>\n",
       "      <th>4</th>\n",
       "      <td>MmGDbK90cvLj7eVwg8c7mw</td>\n",
       "      <td>4/5</td>\n",
       "      <td>4</td>\n",
       "      <td>2011-01-06</td>\n",
       "      <td>sk</td>\n",
       "      <td>Podobné filmy dokazujú, že aj romantické film...</td>\n",
       "      <td>Ondine</td>\n",
       "      <td>2009</td>\n",
       "      <td>film</td>\n",
       "      <td>['Drama', 'Romantický']</td>\n",
       "      <td>['Neil Jordan']</td>\n",
       "      <td>['Neil Jordan']</td>\n",
       "      <td>['Colin Farrell', 'Alicja Bachleda Curuś', 'St...</td>\n",
       "    </tr>\n",
       "  </tbody>\n",
       "</table>\n",
       "</div>"
      ],
      "text/plain": [
       "                review_id rating_str  rating_int        date comment_language  \\\n",
       "0  jcfcxXbNBSmREbS9Dc8lKw        2/5           2  2015-01-03               sk   \n",
       "1  cOlLqZ72s8kku0Y-e_tH4A        2/5           2  2009-07-28               sk   \n",
       "2  nhp0hFOE7bWOfQZETgoE0A        5/5           5  2013-05-07               sk   \n",
       "3  ZlHLO98bkmmQoL8GsWRJiQ        1/5           1  2014-05-08               sk   \n",
       "4  MmGDbK90cvLj7eVwg8c7mw        4/5           4  2011-01-06               sk   \n",
       "\n",
       "                                             comment  item_title item_year  \\\n",
       "0   Vsetko je pekne a krasne, ked si odmyslime hl...  The F Word      2013   \n",
       "1   Zbytočne veľa nechutností (nie som žiadna roz...       Saw 3      2006   \n",
       "2   ďalší výborný Almodóvar. Krásne precítené vní...   Mluv s ní      2002   \n",
       "3   Diky hercum by mohl mit serial dobry potencia...  První krok      2009   \n",
       "4   Podobné filmy dokazujú, že aj romantické film...      Ondine      2009   \n",
       "\n",
       "  item_kind                           item_genres  \\\n",
       "0      film    ['Komedie', 'Drama', 'Romantický']   \n",
       "1      film  ['Horor', 'Thriller', 'Mysteriózní']   \n",
       "2      film    ['Drama', 'Romantický', 'Komedie']   \n",
       "3    seriál                  ['Drama', 'Komedie']   \n",
       "4      film               ['Drama', 'Romantický']   \n",
       "\n",
       "                          item_directors  \\\n",
       "0                      ['Michael Dowse']   \n",
       "1                ['Darren Lynn Bousman']   \n",
       "2                    ['Pedro Almodóvar']   \n",
       "3  ['Ján Sebechlebský', 'Jiří Vejdělek']   \n",
       "4                        ['Neil Jordan']   \n",
       "\n",
       "                                  item_screenwriters  \\\n",
       "0                                    ['Elan Mastai']   \n",
       "1                                 ['Leigh Whannell']   \n",
       "2                                ['Pedro Almodóvar']   \n",
       "3  ['Jiří Vejdělek', 'Marek Kopčaj', 'Marek Hlavi...   \n",
       "4                                    ['Neil Jordan']   \n",
       "\n",
       "                                           item_cast  \n",
       "0  ['Daniel Radcliffe', 'Zoe Kazan', 'Rafe Spall'...  \n",
       "1  ['Tobin Bell', 'Shawnee Smith', 'Angus Macfady...  \n",
       "2  ['Javier Cámara', 'Darío Grandinetti', 'Leonor...  \n",
       "3  ['Klára Issová', 'Dominik Turza', 'Pavel Kříž'...  \n",
       "4  ['Colin Farrell', 'Alicja Bachleda Curuś', 'St...  "
      ]
     },
     "execution_count": 2,
     "metadata": {},
     "output_type": "execute_result"
    }
   ],
   "source": [
    "train_df_csfd = pd.read_csv(\"sk_csfd-movie-reviews_raw_train.csv\")\n",
    "train_df_csfd.head()"
   ]
  },
  {
   "cell_type": "markdown",
   "metadata": {},
   "source": [
    "### Data preparation -- sk_csfd-movie-reviews"
   ]
  },
  {
   "cell_type": "code",
   "execution_count": 3,
   "metadata": {},
   "outputs": [
    {
     "data": {
      "application/vnd.microsoft.datawrangler.viewer.v0+json": {
       "columns": [
        {
         "name": "index",
         "rawType": "int64",
         "type": "integer"
        },
        {
         "name": "rating_int",
         "rawType": "int64",
         "type": "integer"
        },
        {
         "name": "comment",
         "rawType": "object",
         "type": "string"
        }
       ],
       "conversionMethod": "pd.DataFrame",
       "ref": "93fd1144-e9f3-4e2e-ba39-6d71bdef2fff",
       "rows": [
        [
         "24995",
         "4",
         " Zábava to bola skvelá, ale chcem vidieť babu, ktorá dá prednosť NIcholsonovi pred Reevesom.:)"
        ],
        [
         "24996",
         "2",
         " Nudne spracovaný príbeh s dosť naivným scenárom. Správanie postáv a niektoré dialógy sú na tyčku, ako aj celá postava toho talibanského prenasledovateľa, pre ktorého nie je nič dôležitejšie ako dolapiť nejakú novinárku. Francúzske špeciálne jednotky môžu byť tiež spokojné, misia sa podarila, síce prišli o takmer celú jednotku vycvičených vojakov, no novinárka je zachránená, môže sa oslavovať. Realistickejšia mi príde aj Disneyho Fantázia ako toto."
        ],
        [
         "24997",
         "3",
         " 2 hodiny cakania na skvele rozuzlenie....a koniec absolutne odflaknuty, amatersky, detinsky, trapny.... 3 hviezdicky za skvelu hlavnu postavu, ze postupne budovanie atmosfery a za originalne ponatie lakaciek. Mohol to byt top film, avsak to by musel niekto aj rozmyslat nad scenarom...."
        ],
        [
         "24998",
         "2",
         " ide o lepsiu zalezitost nez je jednotka, no stale je to o tom istom (co je teda podla mna narozdiel od vacsiny, na skodu veci)..plus tu ma este o to viac rozculuje ten neustale horedole pobehujuci neschopny trol Pleasance..\na hlavne - (a to sa tyka vsetkych halloweenov), niektore myersove obete si zasluzia nominaciu na darwinovu cenu..naozaj bol problem natocit inteligentny slasher, ktory by neurazal divakov nad 15 rokov? **"
        ],
        [
         "24999",
         "0",
         " Toto je k smiechu! Všetci čo na tomto robili by sa mali hanbiť! Barbie pobehujúca so zbraňami, asi tak sa dá opísať táto blbosť. Ale že som sa aspoň na úbohosti tohto seriálu smial, dávam 1%."
        ]
       ],
       "shape": {
        "columns": 2,
        "rows": 5
       }
      },
      "text/html": [
       "<div>\n",
       "<style scoped>\n",
       "    .dataframe tbody tr th:only-of-type {\n",
       "        vertical-align: middle;\n",
       "    }\n",
       "\n",
       "    .dataframe tbody tr th {\n",
       "        vertical-align: top;\n",
       "    }\n",
       "\n",
       "    .dataframe thead th {\n",
       "        text-align: right;\n",
       "    }\n",
       "</style>\n",
       "<table border=\"1\" class=\"dataframe\">\n",
       "  <thead>\n",
       "    <tr style=\"text-align: right;\">\n",
       "      <th></th>\n",
       "      <th>rating_int</th>\n",
       "      <th>comment</th>\n",
       "    </tr>\n",
       "  </thead>\n",
       "  <tbody>\n",
       "    <tr>\n",
       "      <th>24995</th>\n",
       "      <td>4</td>\n",
       "      <td>Zábava to bola skvelá, ale chcem vidieť babu,...</td>\n",
       "    </tr>\n",
       "    <tr>\n",
       "      <th>24996</th>\n",
       "      <td>2</td>\n",
       "      <td>Nudne spracovaný príbeh s dosť naivným scenár...</td>\n",
       "    </tr>\n",
       "    <tr>\n",
       "      <th>24997</th>\n",
       "      <td>3</td>\n",
       "      <td>2 hodiny cakania na skvele rozuzlenie....a ko...</td>\n",
       "    </tr>\n",
       "    <tr>\n",
       "      <th>24998</th>\n",
       "      <td>2</td>\n",
       "      <td>ide o lepsiu zalezitost nez je jednotka, no s...</td>\n",
       "    </tr>\n",
       "    <tr>\n",
       "      <th>24999</th>\n",
       "      <td>0</td>\n",
       "      <td>Toto je k smiechu! Všetci čo na tomto robili ...</td>\n",
       "    </tr>\n",
       "  </tbody>\n",
       "</table>\n",
       "</div>"
      ],
      "text/plain": [
       "       rating_int                                            comment\n",
       "24995           4   Zábava to bola skvelá, ale chcem vidieť babu,...\n",
       "24996           2   Nudne spracovaný príbeh s dosť naivným scenár...\n",
       "24997           3   2 hodiny cakania na skvele rozuzlenie....a ko...\n",
       "24998           2   ide o lepsiu zalezitost nez je jednotka, no s...\n",
       "24999           0   Toto je k smiechu! Všetci čo na tomto robili ..."
      ]
     },
     "execution_count": 3,
     "metadata": {},
     "output_type": "execute_result"
    }
   ],
   "source": [
    "df = train_df_csfd.drop([\"review_id\", \"rating_str\", \"date\", \"comment_language\", \"item_title\", \"item_year\", \"item_kind\", \"item_genres\", \"item_directors\", \"item_screenwriters\", \"item_cast\"], axis=1)\n",
    "df.tail()\n"
   ]
  },
  {
   "cell_type": "code",
   "execution_count": 4,
   "metadata": {},
   "outputs": [],
   "source": [
    "df[\"rating\"] = df[\"rating_int\"].apply(\n",
    "    lambda row: 'negative' if row <= 2\n",
    "                else ('neutral' if row == 3 else 'positive')\n",
    ")\n",
    "df = df.drop([\"rating_int\"], axis=1)\n",
    "df.rename(columns={'comment':'review'}, inplace=True)\n"
   ]
  },
  {
   "cell_type": "code",
   "execution_count": 5,
   "metadata": {},
   "outputs": [
    {
     "data": {
      "application/vnd.microsoft.datawrangler.viewer.v0+json": {
       "columns": [
        {
         "name": "index",
         "rawType": "int64",
         "type": "integer"
        },
        {
         "name": "review",
         "rawType": "object",
         "type": "string"
        },
        {
         "name": "rating",
         "rawType": "object",
         "type": "string"
        }
       ],
       "conversionMethod": "pd.DataFrame",
       "ref": "aa756b91-4ac7-4e39-97f8-7dc7d98d3ea9",
       "rows": [
        [
         "0",
         " Vsetko je pekne a krasne, ked si odmyslime hlavnu dejovu liniu.  Osudovost, ktora ma vsetko ospravedlnit uraza divaka a spravanie postav v zavere ju jednak popiera a k tomu je na facku.",
         "negative"
        ],
        [
         "1",
         " Zbytočne veľa nechutností (nie som žiadna roztrasená 14 ročná tínedžerka a preto keď už som pri niektorých scénach ja zatváral oči tak ..) a prekombinovaný príbeh. Je to film ktorý sa dá pozerať (raz) a hovoríte si, že to zas nie je taký brak .. no to je oproti prvým dvom dielom veľmi málo.",
         "negative"
        ],
        [
         "2",
         " ďalší výborný Almodóvar. Krásne precítené vnímve ... po rokoch lapaloma v nadhernom prednese ... hned som si ju musel zopakoať  v yutube :)  A vetu KONIEC LáSKY JE JEDNA Z NAJSMUTNEJˇšíCH VECÍ NA SVETE,  tak takú vetu môže vysloviť iba ten, kto to zažil.. Plných päť bodov",
         "positive"
        ],
        [
         "3",
         " Diky hercum by mohl mit serial dobry potencial, ale scenarove a uchopenim to jde hezky ke dnu. Co se tyce studentu, tak bych se divil, ze by zbohatlickyho synka, co vede imbecilni kecy a porad se do nekoho navazi, hnedle ze zacatku nekdo nesrovnal. Nebo, ze by zrovna plesatyho gumaka nikdo neodhalil. Ale prosim, ok..i to se muze stat,.. Ovsem samotne chovani ucitelu, kdy je snad jedina normalni reditelka a zbytek je bud totalne submisivni, ujetej nebo v pripade profesorky tance, ktera v sobe nema spetku sebereflexe a je povysena jak nad studenty, tak nad ostatni spoluherce...je podle me tristni. Uz vubec nemluvim o gestapackym sekretari v podobe Oldricha Navratila, nebo hlidaci v lagru, kteryho si dal Oldrich Vlach. Disciplina a kazen ano, ale nechat se doslova jebat za kazdou volovinu (se skolnym 25k za ctvrtleti),...to bych asi radsi sel dobrovolne do armady.",
         "negative"
        ],
        [
         "4",
         " Podobné filmy dokazujú, že aj romantické filmy sa dajú točiť inteligentne, a tak, aby sa vyhýbali typickým klišé amerických romantických filmov. Herecké výkony podľa mňa veľmi dobré, rovnako aj príbeh, ktorý udržuje mysterióznosť.",
         "positive"
        ]
       ],
       "shape": {
        "columns": 2,
        "rows": 5
       }
      },
      "text/html": [
       "<div>\n",
       "<style scoped>\n",
       "    .dataframe tbody tr th:only-of-type {\n",
       "        vertical-align: middle;\n",
       "    }\n",
       "\n",
       "    .dataframe tbody tr th {\n",
       "        vertical-align: top;\n",
       "    }\n",
       "\n",
       "    .dataframe thead th {\n",
       "        text-align: right;\n",
       "    }\n",
       "</style>\n",
       "<table border=\"1\" class=\"dataframe\">\n",
       "  <thead>\n",
       "    <tr style=\"text-align: right;\">\n",
       "      <th></th>\n",
       "      <th>review</th>\n",
       "      <th>rating</th>\n",
       "    </tr>\n",
       "  </thead>\n",
       "  <tbody>\n",
       "    <tr>\n",
       "      <th>0</th>\n",
       "      <td>Vsetko je pekne a krasne, ked si odmyslime hl...</td>\n",
       "      <td>negative</td>\n",
       "    </tr>\n",
       "    <tr>\n",
       "      <th>1</th>\n",
       "      <td>Zbytočne veľa nechutností (nie som žiadna roz...</td>\n",
       "      <td>negative</td>\n",
       "    </tr>\n",
       "    <tr>\n",
       "      <th>2</th>\n",
       "      <td>ďalší výborný Almodóvar. Krásne precítené vní...</td>\n",
       "      <td>positive</td>\n",
       "    </tr>\n",
       "    <tr>\n",
       "      <th>3</th>\n",
       "      <td>Diky hercum by mohl mit serial dobry potencia...</td>\n",
       "      <td>negative</td>\n",
       "    </tr>\n",
       "    <tr>\n",
       "      <th>4</th>\n",
       "      <td>Podobné filmy dokazujú, že aj romantické film...</td>\n",
       "      <td>positive</td>\n",
       "    </tr>\n",
       "  </tbody>\n",
       "</table>\n",
       "</div>"
      ],
      "text/plain": [
       "                                              review    rating\n",
       "0   Vsetko je pekne a krasne, ked si odmyslime hl...  negative\n",
       "1   Zbytočne veľa nechutností (nie som žiadna roz...  negative\n",
       "2   ďalší výborný Almodóvar. Krásne precítené vní...  positive\n",
       "3   Diky hercum by mohl mit serial dobry potencia...  negative\n",
       "4   Podobné filmy dokazujú, že aj romantické film...  positive"
      ]
     },
     "execution_count": 5,
     "metadata": {},
     "output_type": "execute_result"
    }
   ],
   "source": [
    "df.head()"
   ]
  },
  {
   "cell_type": "code",
   "execution_count": 6,
   "metadata": {},
   "outputs": [
    {
     "name": "stdout",
     "output_type": "stream",
     "text": [
      "['STOP_WORDS_SK', '__builtins__', '__cached__', '__doc__', '__file__', '__loader__', '__name__', '__package__', '__spec__', 'clean_text', 'handle_negations', 'preprocess_for_sentiment', 're', 'simple_slovak_stemmer']\n"
     ]
    },
    {
     "data": {
      "application/vnd.microsoft.datawrangler.viewer.v0+json": {
       "columns": [
        {
         "name": "index",
         "rawType": "int64",
         "type": "integer"
        },
        {
         "name": "review",
         "rawType": "object",
         "type": "string"
        },
        {
         "name": "rating",
         "rawType": "object",
         "type": "string"
        }
       ],
       "conversionMethod": "pd.DataFrame",
       "ref": "753e96a8-579e-4d66-b93b-4272040de928",
       "rows": [
        [
         "24995",
         "zábav skvel chcem vidieť babu dá prednosť nicholson reeves",
         "positive"
        ],
        [
         "24996",
         "nudn spracovan príbeh dosť naivn scenár správan postáv dialóg tyčk celá postav talibansk prenasledovateľ ktor dôležitejš dolapiť novinárk francúzsk špeciáln jednotk spokojn mis podar síce prišl takmer celú jednotk vycvičen vojak novinárk zachránen oslav realistickejš príd disney fantáz",
         "negative"
        ],
        [
         "24997",
         "hodin cakan skvel rozuzlenie koniec absolutn odflaknut amatersk detinsk trapn hviezdick skvel hlavn postav ze postupn budovan atmosfer originaln ponat lakaciek mohol byt top film avsak musel niekt rozmyslat scenar",
         "neutral"
        ],
        [
         "24998",
         "ide leps zalezitost nez neg_jednotk neg_stal neg_ist neg_c neg_podl neg_mn neg_narozdiel neg_vacsin neg_skod neg_veciplus neg_est neg_rozcul neustal neg_horedol neg_pobehujuc neschopn neg_trol neg_pleasanc neg_hlavn neg_tyk neg_vsetkych neg_halloween neg_niektor neg_myersov neg_obet neg_zasluz neg_nominac neg_darwinov neg_cenunaozaj neg_problem neg_natocit neg_inteligentn neg_slasher neg_ktor neurazal neg_divak neg_rok",
         "negative"
        ],
        [
         "24999",
         "smiech rob hanbiť barb pobehujúc zbraň dá opísať blbosť aspoň úbohost seriál smial dávam",
         "negative"
        ]
       ],
       "shape": {
        "columns": 2,
        "rows": 5
       }
      },
      "text/html": [
       "<div>\n",
       "<style scoped>\n",
       "    .dataframe tbody tr th:only-of-type {\n",
       "        vertical-align: middle;\n",
       "    }\n",
       "\n",
       "    .dataframe tbody tr th {\n",
       "        vertical-align: top;\n",
       "    }\n",
       "\n",
       "    .dataframe thead th {\n",
       "        text-align: right;\n",
       "    }\n",
       "</style>\n",
       "<table border=\"1\" class=\"dataframe\">\n",
       "  <thead>\n",
       "    <tr style=\"text-align: right;\">\n",
       "      <th></th>\n",
       "      <th>review</th>\n",
       "      <th>rating</th>\n",
       "    </tr>\n",
       "  </thead>\n",
       "  <tbody>\n",
       "    <tr>\n",
       "      <th>24995</th>\n",
       "      <td>zábav skvel chcem vidieť babu dá prednosť nich...</td>\n",
       "      <td>positive</td>\n",
       "    </tr>\n",
       "    <tr>\n",
       "      <th>24996</th>\n",
       "      <td>nudn spracovan príbeh dosť naivn scenár správa...</td>\n",
       "      <td>negative</td>\n",
       "    </tr>\n",
       "    <tr>\n",
       "      <th>24997</th>\n",
       "      <td>hodin cakan skvel rozuzlenie koniec absolutn o...</td>\n",
       "      <td>neutral</td>\n",
       "    </tr>\n",
       "    <tr>\n",
       "      <th>24998</th>\n",
       "      <td>ide leps zalezitost nez neg_jednotk neg_stal n...</td>\n",
       "      <td>negative</td>\n",
       "    </tr>\n",
       "    <tr>\n",
       "      <th>24999</th>\n",
       "      <td>smiech rob hanbiť barb pobehujúc zbraň dá opís...</td>\n",
       "      <td>negative</td>\n",
       "    </tr>\n",
       "  </tbody>\n",
       "</table>\n",
       "</div>"
      ],
      "text/plain": [
       "                                                  review    rating\n",
       "24995  zábav skvel chcem vidieť babu dá prednosť nich...  positive\n",
       "24996  nudn spracovan príbeh dosť naivn scenár správa...  negative\n",
       "24997  hodin cakan skvel rozuzlenie koniec absolutn o...   neutral\n",
       "24998  ide leps zalezitost nez neg_jednotk neg_stal n...  negative\n",
       "24999  smiech rob hanbiť barb pobehujúc zbraň dá opís...  negative"
      ]
     },
     "execution_count": 6,
     "metadata": {},
     "output_type": "execute_result"
    }
   ],
   "source": [
    "import global_var as gvar\n",
    "print(dir(gvar)) \n",
    "\n",
    "df['review'] = df['review'].apply(gvar.clean_text)\n",
    "df['review'] = df['review'].apply(gvar.handle_negations)\n",
    "df['review'] = df['review'].apply(gvar.preprocess_for_sentiment)\n",
    "df.tail()"
   ]
  },
  {
   "cell_type": "markdown",
   "metadata": {},
   "source": [
    "#### Model and more"
   ]
  },
  {
   "cell_type": "code",
   "execution_count": 7,
   "metadata": {},
   "outputs": [],
   "source": [
    "# First, ensure you have necessary imports\n",
    "import torch\n",
    "import pandas as pd\n",
    "from sklearn.model_selection import train_test_split\n",
    "\n",
    "# If you need to import your preprocessing function\n",
    "import global_var as gvar\n",
    "\n",
    "\n",
    "# 1. Extract your features and labels\n",
    "X = df['review'].values  # Your preprocessed text column\n",
    "y = df['rating'].values  # Your sentiment labels ('positive', 'neutral', 'negative')\n",
    "\n",
    "# 2. Split data into train/test\n",
    "X_train, X_test, y_train, y_test = train_test_split(X, y, test_size=0.2, random_state=42)"
   ]
  },
  {
   "cell_type": "code",
   "execution_count": 8,
   "metadata": {},
   "outputs": [],
   "source": [
    "# 3. Define model parameters\n",
    "vocab_size = 5000  # Max words to consider\n",
    "embedding_dim = 150\n",
    "hidden_dim = 128\n",
    "output_dim = 3  # positive, neutral, negative\n",
    "n_layers = 2\n",
    "bidirectional = True\n",
    "dropout = 0.2\n",
    "batch_size = 32\n",
    "n_epochs = 10\n"
   ]
  },
  {
   "cell_type": "code",
   "execution_count": 9,
   "metadata": {},
   "outputs": [],
   "source": [
    "\n",
    "# 4. Create a simple tokenizer for the text\n",
    "from collections import Counter\n",
    "\n",
    "class SimpleTokenizer:\n",
    "    def __init__(self, texts, max_words=5000):\n",
    "        self.max_words = max_words\n",
    "        self.word_index = {'<PAD>': 0, '<UNK>': 1}\n",
    "        self.word_counts = Counter()\n",
    "        \n",
    "        # Count words\n",
    "        for text in texts:\n",
    "            for word in text.split():\n",
    "                self.word_counts[word] += 1\n",
    "        \n",
    "        # Keep most common words\n",
    "        for word, _ in self.word_counts.most_common(max_words - 2):\n",
    "            if word not in self.word_index:\n",
    "                self.word_index[word] = len(self.word_index)\n",
    "        \n",
    "        self.vocab_size = len(self.word_index)\n",
    "    \n",
    "    def encode_plus(self, text, max_length=100):\n",
    "        tokens = []\n",
    "        for word in text.split():\n",
    "            if word in self.word_index:\n",
    "                tokens.append(self.word_index[word])\n",
    "            else:\n",
    "                tokens.append(self.word_index['<UNK>'])\n",
    "        \n",
    "        # Truncate or pad as needed\n",
    "        if len(tokens) > max_length:\n",
    "            tokens = tokens[:max_length]\n",
    "        else:\n",
    "            tokens = tokens + [self.word_index['<PAD>']] * (max_length - len(tokens))\n",
    "        \n",
    "        return tokens\n"
   ]
  },
  {
   "cell_type": "code",
   "execution_count": 10,
   "metadata": {},
   "outputs": [
    {
     "name": "stdout",
     "output_type": "stream",
     "text": [
      "Vocabulary size: 5000\n"
     ]
    }
   ],
   "source": [
    "tokenizer = SimpleTokenizer(X_train)\n",
    "print(f\"Vocabulary size: {tokenizer.vocab_size}\")"
   ]
  },
  {
   "cell_type": "code",
   "execution_count": 11,
   "metadata": {},
   "outputs": [],
   "source": [
    "\n",
    "# 6. Define LSTM model\n",
    "class LSTMSentimentModel(torch.nn.Module):\n",
    "    def __init__(self, vocab_size, embedding_dim, hidden_dim, output_dim, n_layers, bidirectional, dropout):\n",
    "        super().__init__()\n",
    "        self.embedding = torch.nn.Embedding(vocab_size, embedding_dim, padding_idx=0)\n",
    "        self.lstm = torch.nn.LSTM(embedding_dim, hidden_dim, num_layers=n_layers, \n",
    "                                 bidirectional=bidirectional, dropout=dropout if n_layers > 1 else 0, \n",
    "                                 batch_first=True)\n",
    "        self.fc = torch.nn.Linear(hidden_dim * 2 if bidirectional else hidden_dim, output_dim)\n",
    "        self.dropout = torch.nn.Dropout(dropout)\n",
    "        \n",
    "    def forward(self, text):\n",
    "        embedded = self.embedding(text)\n",
    "        output, (hidden, cell) = self.lstm(embedded)\n",
    "        \n",
    "        if self.lstm.bidirectional:\n",
    "            hidden = torch.cat((hidden[-2,:,:], hidden[-1,:,:]), dim=1)\n",
    "        else:\n",
    "            hidden = hidden[-1,:,:]\n",
    "            \n",
    "        hidden = self.dropout(hidden)\n",
    "        return self.fc(hidden)\n"
   ]
  },
  {
   "cell_type": "code",
   "execution_count": 12,
   "metadata": {},
   "outputs": [],
   "source": [
    "\n",
    "from torch.utils.data import Dataset, DataLoader\n",
    "\n",
    "class SentimentDataset(Dataset):\n",
    "    def __init__(self, texts, labels, tokenizer):\n",
    "        self.texts = [torch.tensor(tokenizer.encode_plus(text)) for text in texts]\n",
    "        \n",
    "        # Convert string labels to integers\n",
    "        self.label_map = {label: i for i, label in enumerate(set(labels))}\n",
    "        self.labels = [self.label_map[label] for label in labels]\n",
    "        \n",
    "    def __len__(self):\n",
    "        return len(self.texts)\n",
    "    \n",
    "    def __getitem__(self, idx):\n",
    "        return self.texts[idx], self.labels[idx]"
   ]
  },
  {
   "cell_type": "code",
   "execution_count": 13,
   "metadata": {},
   "outputs": [],
   "source": [
    "# Create datasets and dataloaders\n",
    "train_dataset = SentimentDataset(X_train, y_train, tokenizer)\n",
    "test_dataset = SentimentDataset(X_test, y_test, tokenizer)\n",
    "\n",
    "train_loader = DataLoader(train_dataset, batch_size=batch_size, shuffle=True)\n",
    "test_loader = DataLoader(test_dataset, batch_size=batch_size)"
   ]
  },
  {
   "cell_type": "code",
   "execution_count": null,
   "metadata": {},
   "outputs": [],
   "source": [
    "\n",
    "# 8. Initialize the model\n",
    "device = torch.device('cuda' if torch.cuda.is_available() else 'mps')\n",
    "model = LSTMSentimentModel(tokenizer.vocab_size, embedding_dim, hidden_dim, \n",
    "                         output_dim, n_layers, bidirectional, dropout).to(device)\n",
    "\n",
    "# 9. Define loss function and optimizer\n",
    "criterion = torch.nn.CrossEntropyLoss()\n",
    "optimizer = torch.optim.Adam(model.parameters())\n",
    "\n",
    "# 10. Training loop\n",
    "best_accuracy = 0\n",
    "\n",
    "for epoch in range(n_epochs):\n",
    "    # Training\n",
    "    model.train()\n",
    "    train_loss = 0\n",
    "    train_correct = 0\n",
    "    \n",
    "    for texts, labels in train_loader:\n",
    "        texts, labels = texts.to(device), labels.to(device)\n",
    "        \n",
    "        optimizer.zero_grad()\n",
    "        predictions = model(texts)\n",
    "        loss = criterion(predictions, labels)\n",
    "        \n",
    "        loss.backward()\n",
    "        optimizer.step()\n",
    "        \n",
    "        train_loss += loss.item()\n",
    "        _, predicted = torch.max(predictions, 1)\n",
    "        train_correct += (predicted == labels).sum().item()\n",
    "    \n",
    "    # Evaluation\n",
    "    model.eval()\n",
    "    test_loss = 0\n",
    "    test_correct = 0\n",
    "    \n",
    "    with torch.no_grad():\n",
    "        for texts, labels in test_loader:\n",
    "            texts, labels = texts.to(device), labels.to(device)\n",
    "            \n",
    "            predictions = model(texts)\n",
    "            loss = criterion(predictions, labels)\n",
    "            \n",
    "            test_loss += loss.item()\n",
    "            _, predicted = torch.max(predictions, 1)\n",
    "            test_correct += (predicted == labels).sum().item()\n",
    "    \n",
    "    # Print statistics\n",
    "        train_loss /= len(train_loader)\n",
    "        test_loss /= len(test_loader)\n",
    "        train_accuracy = train_correct / len(train_dataset)\n",
    "        test_accuracy = test_correct / len(test_dataset)\n",
    "        \n",
    "    print(f'Epoch: {epoch+1}/{n_epochs}')\n",
    "    print(f'Train Loss: {train_loss:.4f}, Train Accuracy: {train_accuracy:.4f}')\n",
    "    print(f'Test Loss: {test_loss:.4f}, Test Accuracy: {test_accuracy:.4f}')\n",
    "        \n",
    "    # Save best model\n",
    "    if test_accuracy > best_accuracy:\n",
    "        best_accuracy = test_accuracy\n",
    "        torch.save(model.state_dict(), 'sentiment_model.pt')\n",
    "        print('Saved best model')\n",
    "\n",
    "# 11. Load the best model\n",
    "model.load_state_dict(torch.load('sentiment_model.pt'))\n",
    "\n",
    "# 12. Function to predict sentiment for new texts\n",
    "def predict_sentiment(text, preprocess_func=None):\n",
    "    if preprocess_func:\n",
    "        text = preprocess_func(text)\n",
    "    \n",
    "    model.eval()\n",
    "    with torch.no_grad():\n",
    "        encoded = torch.tensor(tokenizer.encode_plus(text)).unsqueeze(0).to(device)\n",
    "        prediction = model(encoded)\n",
    "        probabilities = torch.nn.functional.softmax(prediction, dim=1)\n",
    "        predicted_class = torch.argmax(prediction, dim=1).item()\n",
    "        confidence = probabilities[0][predicted_class].item()\n",
    "    \n",
    "    # Convert back to string label\n",
    "    inverse_label_map = {v: k for k, v in train_dataset.label_map.items()}\n",
    "    sentiment = inverse_label_map[predicted_class]\n",
    "    \n",
    "    return sentiment, confidence\n",
    "\n"
   ]
  },
  {
   "cell_type": "code",
   "execution_count": null,
   "metadata": {},
   "outputs": [],
   "source": [
    "# 13. Test the model\n",
    "test_review = \"Film bol veľmi zaujímavý a príbeh bol výborný.\"\n",
    "sentiment, confidence = predict_sentiment(test_review, preprocess_func=gvar.preprocess_for_sentiment)\n",
    "print(f\"Review: {test_review}\")\n",
    "print(f\"Predicted sentiment: {sentiment} (confidence: {confidence:.4f})\")"
   ]
  }
 ],
 "metadata": {
  "kernelspec": {
   "display_name": "Python 3",
   "language": "python",
   "name": "python3"
  },
  "language_info": {
   "codemirror_mode": {
    "name": "ipython",
    "version": 3
   },
   "file_extension": ".py",
   "mimetype": "text/x-python",
   "name": "python",
   "nbconvert_exporter": "python",
   "pygments_lexer": "ipython3",
   "version": "3.12.7"
  }
 },
 "nbformat": 4,
 "nbformat_minor": 2
}
